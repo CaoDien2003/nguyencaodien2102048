{
  "nbformat": 4,
  "nbformat_minor": 0,
  "metadata": {
    "colab": {
      "private_outputs": true,
      "provenance": [],
      "toc_visible": true,
      "collapsed_sections": [
        "7xOlO9GCIfEI",
        "mhKUbI5MKQTv",
        "1891OH3XKgpU",
        "KE4hWgp7c8Xu",
        "34X3IPdRMUxC",
        "H4a8TZuhF0oq",
        "mAuvkgeAm2Yh",
        "CjPe50Fqm7PW",
        "KCojXTxeFXNB",
        "EB4YAE5vFI_J",
        "f7XxbRtNFPR1",
        "rywt3VA_Be9Q",
        "5bP2kSJkEZfl",
        "b1uLcT4vEgAn",
        "ecHZxFwnEtil",
        "eAdWNWEKHjrB",
        "gyfH_wTfNE1j"
      ]
    },
    "kernelspec": {
      "name": "python3",
      "display_name": "Python 3"
    },
    "language_info": {
      "name": "python"
    }
  },
  "cells": [
    {
      "cell_type": "markdown",
      "source": [
        "# **Bank Customer Churn Prediction**"
      ],
      "metadata": {
        "id": "StOLSj59FaI2"
      }
    },
    {
      "cell_type": "markdown",
      "source": [
        "# **1. Introduction**"
      ],
      "metadata": {
        "id": "VhpAZUh4JGXe"
      }
    },
    {
      "cell_type": "markdown",
      "source": [
        "## 1.1. **About dataset:**\n",
        "The bank customer churn dataset is a commonly used dataset for predicting customer churn in the banking industry. It contains information on bank customers who either left the bank or continue to be a customer.\n",
        "\n",
        "dataset: [Binary Classification with a Bank Churn Dataset | Kaggle](https://www.kaggle.com/competitions/playground-series-s4e1/data)"
      ],
      "metadata": {
        "id": "jQbcqHsqGQcz"
      }
    },
    {
      "cell_type": "markdown",
      "source": [
        "## 1.2. **Columns Description:**\n",
        "Customer ID: A unique identifier for each customer\n",
        "\n",
        "- Surname: The customer's surname or last name\n",
        "\n",
        "- Geography: The country where the customer resides (France, Spain or Germany)\n",
        "\n",
        "- Credit Score: A numerical value representing the customer's credit score\n",
        "\n",
        "- Gender: The customer's gender (Male or Female)\n",
        "\n",
        "- Age: The customer's age.\n",
        "\n",
        "- Tenure: The number of years the customer has been with the bank\n",
        "\n",
        "- Balance: The customer's account balance\n",
        "\n",
        "- NumOfProducts: The number of bank products the customer uses (e.g., savings account, credit card)\n",
        "\n",
        "- HasCrCard: Whether the customer has a credit card (1 = yes, 0 = no)\n",
        "\n",
        "- IsActiveMember: Whether the customer is an active member (1 = yes, 0 = no)\n",
        "\n",
        "- EstimatedSalary: The estimated salary of the customer\n",
        "\n",
        "- Exited: Whether the customer has churned (1 = yes, 0 = no)"
      ],
      "metadata": {
        "id": "RBJ1RjDRGS3s"
      }
    },
    {
      "cell_type": "markdown",
      "source": [
        "# **2. Import Libary**"
      ],
      "metadata": {
        "id": "7xOlO9GCIfEI"
      }
    },
    {
      "cell_type": "code",
      "source": [
        "from google.colab import drive\n",
        "drive.mount('/content/drive')"
      ],
      "metadata": {
        "id": "Fr398QGaCb76"
      },
      "execution_count": null,
      "outputs": []
    },
    {
      "cell_type": "code",
      "source": [
        "import pandas as pd\n",
        "import plotly.express as px\n",
        "import numpy as np\n",
        "import plotly.graph_objects as go\n",
        "from scipy.stats import norm\n",
        "import seaborn as sns\n",
        "import matplotlib.pyplot as plt\n",
        "from scipy.stats import chi2_contingency,ttest_ind\n",
        "from IPython.display import display\n",
        "from plotly.subplots import make_subplots"
      ],
      "metadata": {
        "id": "9jAvK4d6Cd1b"
      },
      "execution_count": null,
      "outputs": []
    },
    {
      "cell_type": "markdown",
      "source": [
        "# **3. Import Dataset**"
      ],
      "metadata": {
        "id": "mhKUbI5MKQTv"
      }
    },
    {
      "cell_type": "code",
      "source": [
        "# load dataset\n",
        "path=\"/content/drive/MyDrive/Projects/data visua/dataset/train.csv\"\n",
        "df = pd.read_csv(path)\n",
        "df.head(5)"
      ],
      "metadata": {
        "id": "iJ9HrumSE-hq"
      },
      "execution_count": null,
      "outputs": []
    },
    {
      "cell_type": "code",
      "source": [
        "df.shape"
      ],
      "metadata": {
        "id": "Z4sRo6ojFL_W"
      },
      "execution_count": null,
      "outputs": []
    },
    {
      "cell_type": "code",
      "source": [
        "df.describe()"
      ],
      "metadata": {
        "id": "T-Z32FyQw5nk"
      },
      "execution_count": null,
      "outputs": []
    },
    {
      "cell_type": "markdown",
      "source": [
        "# **4. Quick Remove Null and Duplicate Value**"
      ],
      "metadata": {
        "id": "1891OH3XKgpU"
      }
    },
    {
      "cell_type": "code",
      "source": [
        "# Remove null values\n",
        "print(f'Num of Null Values: {df.isnull().sum()}')\n",
        "df.dropna(inplace=True)\n",
        "\n",
        "# Remove duplicate values\n",
        "print(f\"Number of Duplicate values: {df.duplicated().sum()}\")\n",
        "df.drop_duplicates(inplace=True)\n",
        "\n",
        "df.reset_index(drop=True, inplace=True)"
      ],
      "metadata": {
        "id": "UJbL138tFUNt"
      },
      "execution_count": null,
      "outputs": []
    },
    {
      "cell_type": "markdown",
      "source": [
        "# **5. Exploratory Data Analysis (EDA)**"
      ],
      "metadata": {
        "id": "uyLHB1p7Kuo9"
      }
    },
    {
      "cell_type": "markdown",
      "source": [
        "## **5.1. The test of independence - Chi-Square (χ2)**\n",
        "\n",
        "The test of independence, which asks a question of relationship, such as, “Is there a relationship between gender and churn?”\n",
        "\n",
        "<img src=\"https://prwatech.in/blog/wp-content/uploads/2019/07/chisqr.jpg\" alt=\"My Image\" width=500>\n",
        "\n",
        "**Degree of freedom**:\n",
        "  - df = n - 1 where n is sample size.\n",
        "\n",
        "**Expected Value** = (row sum * column sum) / table sum\n",
        "\n",
        "**Statistical Hypothesis:**\n",
        "\n",
        "  - H0 (Original Hypothesis): The two variables are independent.\n",
        "\n",
        "  - H1 (Alternative Hypothesis): The two variables are not independent.\n",
        "\n",
        "If O and E are close to each other → No evidence that the two variables are related → accept H0\n",
        "\n",
        "If O and E are very different → It is possible that the two variables are related → reject H0\n",
        "\n",
        "**Ref:**\n",
        "\n",
        "- Investopedia\n",
        "  - Chi-Square (χ2) Statistic: What It Is, Examples, How and When to Use the Test: https://www.investopedia.com/terms/c/chi-square-statistic.asp#:~:text=A%20chi-square%20%28%CF%872%29%20statistic%20is%20a%20test%20that,variables%2C%20and%20drawn%20from%20a%20large%20enough%20sample.\n",
        "\n",
        "- Stat Trek\n",
        "  - How to Calculate Degrees of Freedom: https://stattrek.com/statistics/degrees-of-freedom\n",
        "  \n",
        "- Statology\n",
        "  - How to Find Expected Counts in Chi-Square Tests: https://www.statology.org/expected-counts-chi-square/"
      ],
      "metadata": {
        "id": "KE4hWgp7c8Xu"
      }
    },
    {
      "cell_type": "markdown",
      "source": [
        "### **5.1.1. Example:**\n",
        "\n",
        "- H0: Gender and Exited are independent.\n",
        "- H1: Gender and Exited are not independent.\n",
        "\n",
        "#### **Expected Value - E**\n",
        "\n",
        "| Gender   | Exited = 0 | Exited = 1 | total |\n",
        "| -------- | ------------------ | ------------------- | --------- |\n",
        "| Female   | 51779             | 20105              | 71884    |\n",
        "| Male     | 78334             | 14816              | 93150    |\n",
        "| **Total** | 130113            | 34921              | 165034   |\n",
        "\n",
        "\n",
        " - Female (F0):\n",
        "\n",
        "  - F0 = (71884 x 130113) / 165034 = 56674.4302\n",
        "\n",
        "=> We get:\n",
        "\n",
        "| Gender | E(Stay)  | E(Churn) |\n",
        "| ------ | -------- | -------- |\n",
        "| Female | 56673.43 | 15210.57 |\n",
        "| Male   | 73439.57 | 19710.43 |\n",
        "\n",
        "#### **Chi-Square (χ2):**\n",
        "\n",
        "- χ2(F0) = (51779 - 56673.4)² / 56673.4 ≈ 422.69\n",
        "\n",
        "| Gender | E(Stay)  | E(Churn) |\n",
        "| ------ | -------- | -------- |\n",
        "| Female |422.69 |1574.92  |\n",
        "| Male   | 326.19 | 1215.37 |\n",
        "\n",
        "- χ2 = 422.69 + 1574.92 + 326.19 + 1215.37 =3539.17\n",
        "\n",
        "Degree of freedom (n = 2):  \n",
        "  - 2 - 1 = 1\n",
        "\n",
        "Alpha (α = 0.05)\n",
        "\n",
        " Z-crit = 3.841\n",
        "\n",
        " 3539.17 > 3.841"
      ],
      "metadata": {
        "id": "oi1JfYl0tBI8"
      }
    },
    {
      "cell_type": "code",
      "source": [
        "# df.dtypes"
      ],
      "metadata": {
        "id": "DHv8Em_234N0"
      },
      "execution_count": null,
      "outputs": []
    },
    {
      "cell_type": "code",
      "source": [
        "def chi_square_test_all(df, target=\"Exited\"):\n",
        "    results = []\n",
        "    categorical_cols = df.select_dtypes(include=[\"object\", \"category\"]).columns.tolist()\n",
        "    categorical_cols += [col for col in df.columns if df[col].nunique() < 10 and col != target]\n",
        "\n",
        "    # Remove duplicates\n",
        "    categorical_cols = list(dict.fromkeys(categorical_cols))\n",
        "\n",
        "    for col in categorical_cols:\n",
        "        contingency = pd.crosstab(df[col], df[target])\n",
        "        chi2, p, dof, _ = chi2_contingency(contingency)\n",
        "        results.append((col, round(chi2, 2), round(p, 4), dof))\n",
        "\n",
        "    result_df = pd.DataFrame(results, columns=[\"Feature\", \"Chi2\", \"p-value\", \"Degrees of Freedom\"])\n",
        "    return result_df.sort_values(\"p-value\")\n",
        "\n",
        "chi_square_test_all(df)"
      ],
      "metadata": {
        "id": "OsuZmLOwdgWs"
      },
      "execution_count": null,
      "outputs": []
    },
    {
      "cell_type": "markdown",
      "source": [
        "- NumOfProducts and IsActiveMember are the most impactful predictors of customer churn.\n",
        "\n",
        "- Geography and Gender are also relevant and worth including in a predictive model.\n",
        "\n",
        "- Surname should be excluded or carefully encoded due to its high cardinality and low interpretability.\n",
        "\n",
        "- HasCrCard has limited predictive power but can still contribute when combined with other variables."
      ],
      "metadata": {
        "id": "yLfzNe6X6RI-"
      }
    },
    {
      "cell_type": "markdown",
      "source": [
        "## **5.2. Remove Surname**\n",
        "\n",
        "Reason for deletion:\n",
        "\n",
        "1. They may be repeated and are not guaranteed to identify a specific person and may be subject to data noise.\n",
        "2. That is considered sensitive information. And it is illegal in many countries to use that data.\n",
        "\n",
        "**Ref:**\n",
        "- Genealogy Explained\n",
        "  - Are People With the Same Last Name Related?: https://www.genealogyexplained.com/are-people-with-the-same-last-name-related/\n",
        "\n",
        "- the GDPR Compliance Consultancy\n",
        "  - Personal Data vs Sensitive Data – Understanding the Difference: https://thegdprcomplianceconsultancy.co.uk/personal-data-vs-sensitive-data-understanding-the-difference/\n"
      ],
      "metadata": {
        "id": "34X3IPdRMUxC"
      }
    },
    {
      "cell_type": "code",
      "source": [
        "# Count unique Surname\n",
        "unique_sur = df[\"Surname\"].nunique()\n",
        "print(f\"Total Number of Surname: {df.shape[0]} \")\n",
        "print(f\"Number of unique Surname: {unique_sur}\")"
      ],
      "metadata": {
        "id": "ZxreH0xFNotH"
      },
      "execution_count": null,
      "outputs": []
    },
    {
      "cell_type": "code",
      "source": [
        "# count each value of Surname\n",
        "count_values = df[\"Surname\"].value_counts()\n",
        "count_values"
      ],
      "metadata": {
        "id": "GpthZINARhzH"
      },
      "execution_count": null,
      "outputs": []
    },
    {
      "cell_type": "code",
      "source": [
        "# min max average num of surname\n",
        "min_value = count_values.min()\n",
        "max_value = count_values.max()\n",
        "avge = count_values.mean()\n",
        "print(f\"Maximum: {max_value}\")\n",
        "print(f\"Minimum: {min_value}\")\n",
        "print(f\"Average: {avge}\")"
      ],
      "metadata": {
        "id": "egpzvwt0SZkd"
      },
      "execution_count": null,
      "outputs": []
    },
    {
      "cell_type": "code",
      "source": [
        "# Word cloud\n",
        "from wordcloud import WordCloud\n",
        "\n",
        "# Concatenate all surnames into a single string\n",
        "surnames_text = ' '.join(df['Surname'])\n",
        "\n",
        "# Generate the word cloud\n",
        "wordcloud = WordCloud(width = 800, height = 800,\n",
        "                background_color ='white',\n",
        "                stopwords = None,\n",
        "                min_font_size = 10).generate(surnames_text)\n",
        "\n",
        "# Plot the word cloud\n",
        "plt.figure(figsize = (8, 8), facecolor = None)\n",
        "plt.imshow(wordcloud)\n",
        "plt.axis(\"off\")\n",
        "plt.tight_layout(pad = 0)\n",
        "\n",
        "plt.show()"
      ],
      "metadata": {
        "id": "5_Aq0pfzTF95"
      },
      "execution_count": null,
      "outputs": []
    },
    {
      "cell_type": "markdown",
      "source": [
        "## **5.3. Customer Churn Distribution**"
      ],
      "metadata": {
        "id": "W4HGu8I3TWnK"
      }
    },
    {
      "cell_type": "code",
      "source": [
        "# 5.1. Customer Churn Distribution\n",
        "\n",
        "#  Exited\n",
        "churn_counts = df[\"Exited\"].value_counts().reset_index()\n",
        "churn_counts.columns = [\"Exited\", \"Count\"]\n",
        "\n",
        "# mapping color\n",
        "map_color_exited = {\"0\": \"deepskyblue\", \"1\": \"red\"}\n",
        "\n",
        "# convert Exited to string to mapping color\n",
        "churn_counts[\"Exited\"] = churn_counts[\"Exited\"].astype(str)\n",
        "\n",
        "# Pie Charts\n",
        "fig = px.pie(\n",
        "    churn_counts,\n",
        "    names=\"Exited\",\n",
        "    values=\"Count\",\n",
        "    color=\"Exited\",\n",
        "    color_discrete_map=map_color_exited,\n",
        "    title=\"Customer Churn Distribution\"\n",
        ")\n",
        "\n",
        "fig.update_layout(\n",
        "    width=1000,\n",
        "    height=650\n",
        ")\n",
        "\n",
        "fig.update_traces(textinfo='percent+label+value')\n",
        "fig.show()"
      ],
      "metadata": {
        "id": "gWqeQw-WFZjY"
      },
      "execution_count": null,
      "outputs": []
    },
    {
      "cell_type": "markdown",
      "source": [
        "- 130,113 customers (78.8%) stayed with the bank.\n",
        "- 34,921 customers (21.2%) churned (left the bank).\n",
        "\n",
        "The churn rate is moderately low (~21%), which means the bank is doing reasonably well in customer retention.\n",
        "\n",
        "However, nearly 1 in 5 customers leaving still poses a risk, especially considering that acquiring new customers is usually more expensive than retaining current ones."
      ],
      "metadata": {
        "id": "Rlw69ZJtTl-i"
      }
    },
    {
      "cell_type": "markdown",
      "source": [
        "## **5.4. Gender**"
      ],
      "metadata": {
        "id": "tTearoc7Yk4s"
      }
    },
    {
      "cell_type": "markdown",
      "source": [
        "### **5.4.1. Churn Distribution by Gender**"
      ],
      "metadata": {
        "id": "mgccDk7kGT1y"
      }
    },
    {
      "cell_type": "code",
      "source": [
        "## 5.2. Churn Distribution by Gender\n",
        "\n",
        "def plot_churn_by_gender(df, mapcolor):\n",
        "    # Total and churn\n",
        "    n_female = df[df[\"Gender\"] == \"Female\"].shape[0]\n",
        "    n_male = df[df[\"Gender\"] == \"Male\"].shape[0]\n",
        "    total = n_female + n_male\n",
        "\n",
        "    # filter female, male churn\n",
        "    female_churn = df[(df[\"Gender\"] == \"Female\") & (df[\"Exited\"] == 1)].shape[0]\n",
        "    male_churn = df[(df[\"Gender\"] == \"Male\") & (df[\"Exited\"] == 1)].shape[0]\n",
        "\n",
        "    # get percent\n",
        "    pct_female_total = round((n_female / total) * 100, 2)\n",
        "    pct_male_total = round((n_male / total) * 100, 2)\n",
        "\n",
        "    pct_female_churn = round((female_churn / n_female) * 100, 2)\n",
        "    pct_male_churn = round((male_churn / n_male) * 100, 2)\n",
        "\n",
        "\n",
        "    map_color = mapcolor\n",
        "\n",
        "    # plot\n",
        "    fig = px.histogram(\n",
        "        df,\n",
        "        x=\"Gender\",\n",
        "        color=\"Exited\",\n",
        "        barmode=\"group\",\n",
        "        title=f\"Churn by Gender | Female: {pct_female_total}% of total, Churn of female: {pct_female_churn}% | Male: {pct_male_total}% of total, Churn of male: {pct_male_churn}%\",\n",
        "        color_discrete_map=map_color,\n",
        "        category_orders={\"Gender\": [\"Female\", \"Male\"]},\n",
        "        text_auto=True\n",
        "    )\n",
        "\n",
        "    fig.update_layout(\n",
        "        xaxis_title=\"Gender\",\n",
        "        yaxis_title=\"Number of Customers\",\n",
        "        bargap=0.2\n",
        "    )\n",
        "\n",
        "    fig.update_traces(textfont_size=14, textposition='outside')\n",
        "    fig.show()"
      ],
      "metadata": {
        "id": "6xZP6RCLOSeU"
      },
      "execution_count": null,
      "outputs": []
    },
    {
      "cell_type": "code",
      "source": [
        "map_color_exited = {0: \"deepskyblue\", 1: \"red\"}"
      ],
      "metadata": {
        "id": "4SxbMDTFx3fK"
      },
      "execution_count": null,
      "outputs": []
    },
    {
      "cell_type": "code",
      "source": [
        "plot_churn_by_gender(df, map_color_exited)"
      ],
      "metadata": {
        "id": "H9cMVcXUOWPc"
      },
      "execution_count": null,
      "outputs": []
    },
    {
      "cell_type": "markdown",
      "source": [
        "There are more male customers than female in the dataset:\n",
        "\n",
        "- Male: ~93,150 (78,334 stayed, 14,816 churned)\n",
        "\n",
        "- Female: ~71,884 (51,779 stayed, 20,105 churned)\n",
        "\n",
        "Churn Rate by Gender:\n",
        "\n",
        "- Female: ~28%\n",
        "\n",
        "- Male: ~15.9%\n",
        "\n",
        "Female customers churn significantly more than male customers.\n",
        "This may suggest a gap in service satisfaction or product relevance for female users, which the bank should investigate further."
      ],
      "metadata": {
        "id": "_oaLLoTAZf9I"
      }
    },
    {
      "cell_type": "markdown",
      "source": [
        "### 5.4.2. One-Tailed Two-Proportion Z-Test\n",
        "\n",
        "- z = (p1-p2) / √p(1-p)(1/n1+1/n2)\n",
        "\n",
        " - p1, p2:  sample proportions of churn for female and male groups\n",
        " - n1, n2:  total number of customers in each group\n",
        " - p: pooled proportion\n",
        "\n",
        "- p = (p1n1 + p2n2)/(n1+n2)\n",
        "\n",
        "**Ref**\n",
        "- Statology\n",
        "  - Two Proportion Z-Test: Definition, Formula, and Example: https://www.statology.org/two-proportion-z-test/"
      ],
      "metadata": {
        "id": "qX1JmVkbJ2hp"
      }
    },
    {
      "cell_type": "markdown",
      "source": [
        "#### 5.4.2.1 Female vs Male"
      ],
      "metadata": {
        "id": "OpRQhPNwGevL"
      }
    },
    {
      "cell_type": "markdown",
      "source": [
        "\n",
        "\n",
        "The hypothesis:\n",
        "\n",
        "- Null Hypothesis (H0): p₁ ≤ p₂\n",
        "( Female churn rate ≤ Male churn rate)\n",
        "\n",
        "- Alternative Hypothesis (H1):  p₁ > p₂\n",
        "( Female churn rate > Male churn rate)\n",
        "\n",
        "| gender   | Churned (x) | \tTotal (n) | \tChurn Rate (p) |\n",
        "|--------|---------------|-------------|-----------------|\n",
        "| Female     | 20.105        | 71.884      | 27,97%          |\n",
        "| Male    | 14.816        | 93.150      | 15,91%          |"
      ],
      "metadata": {
        "id": "hsQgrlECPvvR"
      }
    },
    {
      "cell_type": "code",
      "source": [
        "# Churned (x),\tTotal (n) , Churn Rate (p)\n",
        "x1, n1 = 20105, 71884\n",
        "x2, n2 = 14816, 93150\n",
        "\n",
        "p1 = x1 / n1\n",
        "p2 = x2 / n2\n",
        "p = (x1 + x2) / (n1 + n2)\n",
        "\n",
        "z = round((p1 - p2) / np.sqrt(p * (1 - p) * (1/n1 + 1/n2)), 4)\n",
        "p_value = round(1 - norm.cdf(z), 10)\n",
        "\n",
        "# Distribution\n",
        "x_vals = np.linspace(-10, 60, 1000)\n",
        "y_vals = norm.pdf(x_vals)\n",
        "\n",
        "fig = go.Figure()\n",
        "\n",
        "# Normal curve\n",
        "fig.add_trace(go.Scatter(x=x_vals, y=y_vals, mode='lines', name='Standard Normal Distribution', line=dict(color='blue')))\n",
        "\n",
        "# Rejection region\n",
        "fig.add_trace(go.Scatter(\n",
        "    x=x_vals,\n",
        "    y=np.where(x_vals >= 1.645, y_vals, None),\n",
        "    fill='tozeroy',\n",
        "    mode='none',\n",
        "    name='Rejection Region (α = 0.05)',\n",
        "    fillcolor='rgba(255,0,0,0.3)'\n",
        "))\n",
        "\n",
        "# Z-score line\n",
        "fig.add_trace(go.Scatter(\n",
        "    x=[z, z],\n",
        "    y=[0, 0.4],  # constant height (just for visualization)\n",
        "    mode='lines',\n",
        "    line=dict(color='darkred', dash='dash'),\n",
        "    name=f'Z = {z}'\n",
        "))\n",
        "\n",
        "# Annotation for p-value\n",
        "fig.add_annotation(\n",
        "    x=z,\n",
        "    y=0.03,\n",
        "    text=f\"p-value ≈ {p_value}\",\n",
        "    showarrow=True,\n",
        "    arrowhead=1,\n",
        "    ax=-60,\n",
        "    ay=-30,\n",
        "    font=dict(color=\"darkred\")\n",
        ")\n",
        "\n",
        "# Layout\n",
        "fig.update_layout(\n",
        "    title=\"Interactive One-Tailed Z-Test: Female Churn Rate > Male Churn Rate\",\n",
        "    xaxis_title=\"Z-score\",\n",
        "    yaxis_title=\"Probability Density\",\n",
        "    xaxis_range=[ -10, 60],\n",
        "    showlegend=True,\n",
        "    width=900,\n",
        "    height=500\n",
        ")\n",
        "\n",
        "fig.show()"
      ],
      "metadata": {
        "id": "VAvqIJnSUi0C"
      },
      "execution_count": null,
      "outputs": []
    },
    {
      "cell_type": "markdown",
      "source": [
        "### 5.4.3. Conclusion"
      ],
      "metadata": {
        "id": "igK1HKk_GkSB"
      }
    },
    {
      "cell_type": "markdown",
      "source": [
        "- The blue curve represents the standard normal distribution (Z-distribution) with mean = 0 and standard deviation = 1.\n",
        "\n",
        "- The red shaded area starting from Z = 1.645 is the rejection region for a one-tailed test at significance level α = 0.05.\n",
        "\n",
        "- The dashed red vertical line at Z = 59.491 indicates the actual result of your Z-Test.\n",
        "\n",
        "- The annotation \"p-value ≈ 0.0\" highlights that the probability of getting such a high Z-score under the null hypothesis is virtually 0."
      ],
      "metadata": {
        "id": "vmeanzMbWfw1"
      }
    },
    {
      "cell_type": "markdown",
      "source": [
        "## **5.5. Geography**"
      ],
      "metadata": {
        "id": "R2o_LJpTcEfO"
      }
    },
    {
      "cell_type": "markdown",
      "source": [
        "### 5.5.1 Churn by Geography"
      ],
      "metadata": {
        "id": "H4a8TZuhF0oq"
      }
    },
    {
      "cell_type": "code",
      "source": [
        "def plot_churn_by_geography(df):\n",
        "    # all unique regions\n",
        "    regions = df[\"Geography\"].unique()\n",
        "    total = df.shape[0]\n",
        "\n",
        "    # summary for each region\n",
        "    summaries = []\n",
        "    for region in regions:\n",
        "        n_region = df[df[\"Geography\"] == region].shape[0]\n",
        "        churn_region = df[(df[\"Geography\"] == region) & (df[\"Exited\"] == 1)].shape[0]\n",
        "        pct_region_total = round((n_region / total) * 100, 2)\n",
        "        pct_region_churn = round((churn_region / n_region) * 100, 2)\n",
        "        summaries.append(f\"{region}: {pct_region_total}% of total, Churn of {region}: {pct_region_churn}%\")\n",
        "\n",
        "    # title\n",
        "    title_text = \"Churn by Geography | \" + \" | \".join(summaries)\n",
        "\n",
        "    # convert Exited to string for color mapping\n",
        "    df_plot = df.copy()\n",
        "    df_plot[\"Exited\"] = df_plot[\"Exited\"].astype(str)\n",
        "\n",
        "    # Plot\n",
        "    fig = px.histogram(\n",
        "        df_plot,\n",
        "        x=\"Geography\",\n",
        "        color=\"Exited\",\n",
        "        barmode=\"group\",\n",
        "        title=title_text,\n",
        "        color_discrete_map = {'0': \"deepskyblue\", '1': \"red\"},\n",
        "        category_orders={\"Geography\": sorted(regions)},\n",
        "        text_auto=True\n",
        "    )\n",
        "\n",
        "    fig.update_layout(\n",
        "        xaxis_title=\"Geography\",\n",
        "        yaxis_title=\"Number of Customers\",\n",
        "        bargap=0.2\n",
        "    )\n",
        "\n",
        "    fig.update_traces(textfont_size=14, textposition='outside')\n",
        "    fig.show()\n"
      ],
      "metadata": {
        "id": "ldsViVMbaatV"
      },
      "execution_count": null,
      "outputs": []
    },
    {
      "cell_type": "code",
      "source": [
        "plot_churn_by_geography(df)"
      ],
      "metadata": {
        "id": "Q9SzxhJUdXnR"
      },
      "execution_count": null,
      "outputs": []
    },
    {
      "cell_type": "markdown",
      "source": [
        "### 5.5.2.  One-Tailed Two-Proportion Z-Test"
      ],
      "metadata": {
        "id": "E8oVR7ZJF_fT"
      }
    },
    {
      "cell_type": "markdown",
      "source": [
        "| Geography   | Churned (x) | \tTotal (n) | \tChurn Rate (p) |\n",
        "|--------|---------------|-------------|-----------------|\n",
        "| France     | 15,572        | 94,215      | 16.53%         |\n",
        "| Germany    | 13,114        | 34,606      | 37.90%         |\n",
        "| Spain    | 6,235       | 36,213     | 17.22%         |"
      ],
      "metadata": {
        "id": "vWuDe8AeeYU4"
      }
    },
    {
      "cell_type": "markdown",
      "source": [
        "#### 5.5.2.1. Germany vs France\n",
        "- H0: p_GER ≤ p_FR\n",
        "- H1: p_GER > p_FR"
      ],
      "metadata": {
        "id": "mAuvkgeAm2Yh"
      }
    },
    {
      "cell_type": "code",
      "source": [
        "# Germany vs France\n",
        "# churned (X), Total (n)\n",
        "x1, n1 = 13114, 34606  # Germany\n",
        "x2, n2 = 15572, 94215  # France\n",
        "\n",
        "# Proportions\n",
        "p1 = x1 / n1  # Germany churn rate\n",
        "p2 = x2 / n2  # France churn rate\n",
        "\n",
        "# Pooled proportion\n",
        "p = (x1 + x2) / (n1 + n2)\n",
        "\n",
        "# Z-score and p-value\n",
        "z = round((p1 - p2) / np.sqrt(p * (1 - p) * (1/n1 + 1/n2)), 4)\n",
        "p_value = round(1 - norm.cdf(z), 10)\n",
        "\n",
        "# Z-distribution plot\n",
        "x_vals = np.linspace(-10, 90, 1000)\n",
        "y_vals = norm.pdf(x_vals)\n",
        "\n",
        "fig = go.Figure()\n",
        "\n",
        "# Standard normal curve\n",
        "fig.add_trace(go.Scatter(x=x_vals, y=y_vals, mode='lines',\n",
        "                         name='Standard Normal Distribution', line=dict(color='blue')))\n",
        "\n",
        "# Rejection region (α = 0.05, Z = 1.645)\n",
        "fig.add_trace(go.Scatter(\n",
        "    x=x_vals,\n",
        "    y=np.where(x_vals >= 1.645, y_vals, None),\n",
        "    fill='tozeroy',\n",
        "    mode='none',\n",
        "    name='Rejection Region (α = 0.05)',\n",
        "    fillcolor='rgba(255,0,0,0.3)'\n",
        "))\n",
        "\n",
        "# Z-score line\n",
        "fig.add_trace(go.Scatter(\n",
        "    x=[z, z],\n",
        "    y=[0, 0.4],\n",
        "    mode='lines',\n",
        "    line=dict(color='darkred', dash='dash'),\n",
        "    name=f'Z = {z}'\n",
        "))\n",
        "\n",
        "# Annotate p-value\n",
        "fig.add_annotation(\n",
        "    x=z,\n",
        "    y=0.03,\n",
        "    text=f\"p-value ≈ {p_value}\",\n",
        "    showarrow=True,\n",
        "    arrowhead=1,\n",
        "    ax=-60,\n",
        "    ay=-30,\n",
        "    font=dict(color=\"darkred\")\n",
        ")\n",
        "\n",
        "# Layout\n",
        "fig.update_layout(\n",
        "    title=\"Z-Test: Germany Churn Rate > France Churn Rate\",\n",
        "    xaxis_title=\"Z-score\",\n",
        "    yaxis_title=\"Probability Density\",\n",
        "    xaxis_range=[-10, 90],\n",
        "    showlegend=True,\n",
        "    width=900,\n",
        "    height=500\n",
        ")\n",
        "\n",
        "fig.show()"
      ],
      "metadata": {
        "id": "Hmjojs85nXIP"
      },
      "execution_count": null,
      "outputs": []
    },
    {
      "cell_type": "markdown",
      "source": [
        "- The Z-score between Germany and France is Z = 81.7043\n",
        "\n",
        "- The red region is the rejection zone for significance level α = 0.05, starting at Z = 1.645\n",
        "\n",
        "- Because Z ≫ 1.645 and p-value ≈ 0.0, we reject the null hypothesis H₀\n",
        "\n",
        "-> Germany has the highest churn rate"
      ],
      "metadata": {
        "id": "n5BQMeoXoLuC"
      }
    },
    {
      "cell_type": "markdown",
      "source": [
        "#### 5.5.2.1. Germany vs Spain\n",
        "- H0: p_GER ≤ p_SP\n",
        "\n",
        "- H1: p_GER > p_SP"
      ],
      "metadata": {
        "id": "CjPe50Fqm7PW"
      }
    },
    {
      "cell_type": "code",
      "source": [
        "# Germany vs Spain\n",
        "# churned (X), Total (n)\n",
        "x1, n1 = 13114, 34606   # Germany\n",
        "x2, n2 = 6235, 36213    # Spain\n",
        "\n",
        "# Proportions\n",
        "p1 = x1 / n1  # Germany churn rate\n",
        "p2 = x2 / n2  # Spain churn rate\n",
        "\n",
        "# Pooled proportion\n",
        "p = (x1 + x2) / (n1 + n2)\n",
        "\n",
        "# Z-score and p-value\n",
        "z = round((p1 - p2) / np.sqrt(p * (1 - p) * (1/n1 + 1/n2)), 4)\n",
        "p_value = round(1 - norm.cdf(z), 10)\n",
        "\n",
        "# Z-distribution for plot\n",
        "x_vals = np.linspace(-10, 90, 1000)\n",
        "y_vals = norm.pdf(x_vals)\n",
        "\n",
        "# Create figure\n",
        "fig = go.Figure()\n",
        "\n",
        "# Normal curve\n",
        "fig.add_trace(go.Scatter(x=x_vals, y=y_vals, mode='lines', name='Standard Normal Distribution', line=dict(color='blue')))\n",
        "\n",
        "# Rejection region (α = 0.05 → Z = 1.645)\n",
        "fig.add_trace(go.Scatter(\n",
        "    x=x_vals,\n",
        "    y=np.where(x_vals >= 1.645, y_vals, None),\n",
        "    fill='tozeroy',\n",
        "    mode='none',\n",
        "    name='Rejection Region (α = 0.05)',\n",
        "    fillcolor='rgba(255,0,0,0.3)'\n",
        "))\n",
        "\n",
        "# Z-score line\n",
        "fig.add_trace(go.Scatter(\n",
        "    x=[z, z],\n",
        "    y=[0, 0.4],\n",
        "    mode='lines',\n",
        "    line=dict(color='darkred', dash='dash'),\n",
        "    name=f'Z = {z}'\n",
        "))\n",
        "\n",
        "# Annotate p-value\n",
        "fig.add_annotation(\n",
        "    x=z,\n",
        "    y=0.03,\n",
        "    text=f\"p-value ≈ {p_value}\",\n",
        "    showarrow=True,\n",
        "    arrowhead=1,\n",
        "    ax=-60,\n",
        "    ay=-30,\n",
        "    font=dict(color=\"darkred\")\n",
        ")\n",
        "\n",
        "# Layout\n",
        "fig.update_layout(\n",
        "    title=\"Z-Test: Germany Churn Rate > Spain Churn Rate\",\n",
        "    xaxis_title=\"Z-score\",\n",
        "    yaxis_title=\"Probability Density\",\n",
        "    xaxis_range=[-10, 90],\n",
        "    showlegend=True,\n",
        "    width=900,\n",
        "    height=500\n",
        ")\n",
        "\n",
        "fig.show()"
      ],
      "metadata": {
        "id": "MiBJUhGYmYv4"
      },
      "execution_count": null,
      "outputs": []
    },
    {
      "cell_type": "markdown",
      "source": [
        "- The chart shows the standard normal distribution (blue), with the rejection region shaded in red starting at Z = 1.645\n",
        "\n",
        "- The dashed red line at Z = 61.2722 represents the observed Z-score for Germany vs Spain\n",
        "\n",
        "- The p-value ≈ 0.0 indicates that such an extreme Z-score is virtually impossible under the null hypothesis\n",
        "\n",
        "- Since Z > 1.645 and p ≈ 0, we reject the null hypothesis\n",
        "\n",
        "-> Germany has the highest churn rate"
      ],
      "metadata": {
        "id": "vFtiarsfo0uj"
      }
    },
    {
      "cell_type": "markdown",
      "source": [
        "### 5.5.3. Conclusion\n",
        "\n",
        "Germany has a higher churn rate than both France and Spain, with very high statistical significance (Z > 60, p ≈ 0 in both pairs of tests)."
      ],
      "metadata": {
        "id": "0A4VDxynpH0T"
      }
    },
    {
      "cell_type": "markdown",
      "source": [
        "## **5.6. Geography and Gender**  "
      ],
      "metadata": {
        "id": "tihX17WipYMS"
      }
    },
    {
      "cell_type": "markdown",
      "source": [
        "### 5.6.1. Number of Gender by Geography"
      ],
      "metadata": {
        "id": "KCojXTxeFXNB"
      }
    },
    {
      "cell_type": "code",
      "source": [
        "# # Group by Geography and Gender\n",
        "gender_geo_counts = df.groupby([\"Geography\", \"Gender\"]).size().reset_index(name=\"Count\")\n",
        "\n",
        "# # Calculate total and percent ( ALL Dataset)\n",
        "# total = gender_geo_counts[\"Count\"].sum()\n",
        "# gender_geo_counts[\"Percent\"] = round((gender_geo_counts[\"Count\"] / total) * 100, 2)\n",
        "\n",
        "# Calculate total per country and percent\n",
        "total_per_country = gender_geo_counts.groupby(\"Geography\")[\"Count\"].transform(\"sum\")\n",
        "gender_geo_counts[\"Percent\"] = round((gender_geo_counts[\"Count\"] / total_per_country) * 100, 2)\n",
        "\n",
        "# # Create label: \"Count (Percent%)\"\n",
        "gender_geo_counts[\"Label\"] = gender_geo_counts[\"Count\"].astype(str) + \" (\" + gender_geo_counts[\"Percent\"].astype(str) + \"%)\""
      ],
      "metadata": {
        "id": "W25kYDQ0pXf5"
      },
      "execution_count": null,
      "outputs": []
    },
    {
      "cell_type": "code",
      "source": [
        "# Bar Chart\n",
        "fig = px.bar(\n",
        "    gender_geo_counts,\n",
        "    x=\"Geography\",\n",
        "    y=\"Count\",\n",
        "    color=\"Gender\",\n",
        "    barmode=\"group\",\n",
        "    text=gender_geo_counts[\"Label\"],\n",
        "    title=\"Number and Percentage of Male and Female Customers per Country\"\n",
        ")\n",
        "\n",
        "# Update layout\n",
        "fig.update_layout(\n",
        "    yaxis_title=\"Number of Customers\",\n",
        "    xaxis_title=\"Country\",\n",
        "    bargap=0.2\n",
        ")\n",
        "\n",
        "# Show text above bars\n",
        "fig.update_traces(textposition=\"outside\", textfont_size=13)\n",
        "\n",
        "# Display chart\n",
        "fig.show()"
      ],
      "metadata": {
        "id": "C3ldqPansDvw"
      },
      "execution_count": null,
      "outputs": []
    },
    {
      "cell_type": "markdown",
      "source": [
        "### 5.6.2. Churn by Geography and Gender"
      ],
      "metadata": {
        "id": "kbov1YuiFj10"
      }
    },
    {
      "cell_type": "code",
      "source": [
        "# Group: country, Gender and Churn\n",
        "grouped_churn = df.groupby([\"Geography\", \"Gender\", \"Exited\"]).size().reset_index(name=\"Count\")\n",
        "\n",
        "grouped_churn[\"Exited\"] = grouped_churn[\"Exited\"].astype(str)\n",
        "map_color_exited = {\"0\": \"deepskyblue\", \"1\": \"red\"}\n",
        "\n",
        "# bar chart\n",
        "fig = px.bar(\n",
        "    grouped_churn,\n",
        "    x=\"Geography\",\n",
        "    y=\"Count\",\n",
        "    color=\"Exited\",\n",
        "    color_discrete_map=map_color_exited,\n",
        "    barmode=\"group\",\n",
        "    facet_col=\"Gender\",\n",
        "    category_orders={\"Exited\": [\"0\", \"1\"]},\n",
        "    labels={\"Exited\": \"Churned (1 = Yes, 0 = No)\"},\n",
        "    title=\"Churn vs Stay by Gender and Country\"\n",
        ")\n",
        "\n",
        "fig.update_layout(\n",
        "    yaxis_title=\"Number of Customers\",\n",
        "    xaxis_title=\"Country\",\n",
        "    bargap=0.2\n",
        ")\n",
        "\n",
        "fig.show()\n"
      ],
      "metadata": {
        "id": "B4y2AD8tx4EN"
      },
      "execution_count": null,
      "outputs": []
    },
    {
      "cell_type": "markdown",
      "source": [
        "## **5.7 Age**\n",
        "\n",
        "\n",
        "# **France**\n",
        "- France Age structure: https://www.indexmundi.com/france/age_structure.html\n",
        "- Age Groups France: https://www.spotzi.com/en/data-catalog/datasets/age-groups-france/\n",
        "\n",
        "# **Germany**\n",
        "- Germany Age structure: https://www.indexmundi.com/germany/age_structure.html\n",
        "- Age Groups Germany: https://www.spotzi.com/en/data-catalog/datasets/age-groups-germany/\n",
        "- Addressing the challenge of “Ageism in Finance” in Germany: https://www.fintech4longevity.com/blog/addressing-the-challenge-of-ageism-in-finance-in-germany-guest-author-cornelia-schwertner-ceo-and-co-founder-at-brygge\n",
        "\n",
        "\n",
        "# **Spain**\n",
        "- Spain Age structure: https://www.indexmundi.com/spain/age_structure.html\n",
        "- Age Groups Spain: https://www.spotzi.com/en/data-catalog/datasets/age-groups-spain/\n",
        "\n",
        "\n",
        "# Age Categories - **CIA World Factbook**:\n",
        "\n",
        "- **Children Age**: 0-14 years\n",
        "- **Early working Age**: 15-24 years\n",
        "- **Prime working Age**: 25-54 years\n",
        "- **Mature working Age**: 55-64 years\n",
        "- **Elderly**: Age 65 years and over\n",
        "\n",
        "# Age Categories - **Spotzi**\n",
        "\n",
        "- **Childhood**: Age 0 - 10\n",
        "- **Adolescence, Teenager**: Age 10 - 20\n",
        "- **Young Adult**: Age 20 - 40\n",
        "- **Middle-Aged**: Age 40 - 65\n",
        "- **Elderly**: Age 65 Years and Older\n",
        "\n",
        "# Age Categories - **Longevity Academy**\n",
        "\n",
        "- **Teens**: Age 16 - 24 years\n",
        "- **Young adult**: Age 25 - 44 years\n",
        "- **Middle-aged / Near retirement**: Age 45 - 64 years\n",
        "- **Elderly**: Age 65 - 74 years\n",
        "\n",
        "# **Final Age Categories**\n",
        "\n",
        "- **Early working Age**: Ages 18–24  \n",
        "- **Prime Working Age**: Ages 25–44  \n",
        "- **Mid–Late Working Age**: Ages 45–64  \n",
        "- **Elderly**: Ages 65– Older\n",
        "\n",
        "How Old Do You Have to Be to Open a Bank Account?: https://www.banks.com/articles/banking/how-old-open-account/#:~:text=Adults%20can%20open%20a%20bank%20account%20by%20themselves,to%20make%20money%20and%20use%20it%20for%20purchases.\n"
      ],
      "metadata": {
        "id": "itScVBp2xEwE"
      }
    },
    {
      "cell_type": "markdown",
      "source": [
        "### 5.7.1. mapping age group"
      ],
      "metadata": {
        "id": "EB4YAE5vFI_J"
      }
    },
    {
      "cell_type": "code",
      "source": [
        "MinAge = df['Age'].min()\n",
        "MaxAge = df['Age'].max()\n",
        "print(f\"Min Age: {MinAge}, Max Age: {MaxAge}\")"
      ],
      "metadata": {
        "id": "wQyK-9Xu2vPk"
      },
      "execution_count": null,
      "outputs": []
    },
    {
      "cell_type": "code",
      "source": [
        "def map_age_group(age):\n",
        "    if 18 <= age <= 24: # 18–24\n",
        "        return \"Early working Age\"\n",
        "    elif 25 <= age <= 44: # 25–44\n",
        "        return \"Prime Working Age\"\n",
        "    elif 45 <= age <= 64:# 45–64\n",
        "        return \"Mid–Late Working Age\"\n",
        "    elif 65 <= age: # 65 - Older\n",
        "        return \"Elderly\"\n",
        "df_copy = df.copy()\n",
        "df_copy[\"AgeGroup\"] = df_copy[\"Age\"].apply(map_age_group)"
      ],
      "metadata": {
        "id": "X5gaU1ba8qws"
      },
      "execution_count": null,
      "outputs": []
    },
    {
      "cell_type": "code",
      "source": [
        "# A chi-square test of independence\n",
        "def chi_square_test(df, column, target=\"Exited\"):\n",
        "    \"\"\"\n",
        "    Performs a chi-square test of independence between a given column and the target column\n",
        "    and returns the results in a pandas DataFrame.\n",
        "\n",
        "    Args:\n",
        "        df (pd.DataFrame): The DataFrame containing the data.\n",
        "        column (str): The name of the categorical column to test.\n",
        "        target (str): The name of the target column (default is \"Exited\").\n",
        "\n",
        "    Returns:\n",
        "        pd.DataFrame: A DataFrame containing the chi-square test results.\n",
        "    \"\"\"\n",
        "    contingency_table = pd.crosstab(df[column], df[target])\n",
        "\n",
        "    chi2, p_value, dof, expected = chi2_contingency(contingency_table)\n",
        "\n",
        "    results = {\n",
        "        \"Feature\": [column],\n",
        "        \"Chi2\": [round(chi2, 2)],\n",
        "        \"p-value\": [round(p_value, 4)],\n",
        "        \"Degrees of Freedom\": [dof],\n",
        "    }\n",
        "\n",
        "    result_df = pd.DataFrame(results)\n",
        "    return result_df\n",
        "\n",
        "chi_square_test(df_copy, \"AgeGroup\")"
      ],
      "metadata": {
        "id": "xUz8YpwC8hGl"
      },
      "execution_count": null,
      "outputs": []
    },
    {
      "cell_type": "markdown",
      "source": [
        "### 5.7.2 churn by age group"
      ],
      "metadata": {
        "id": "f7XxbRtNFPR1"
      }
    },
    {
      "cell_type": "code",
      "source": [
        "# Custom order\n",
        "age_order = {\n",
        "    \"Early working Age\": 1,\n",
        "    \"Prime Working Age\": 2,\n",
        "    \"Mid–Late Working Age\": 3,\n",
        "    \"Elderly\": 4\n",
        "}\n",
        "# Mapping Age color\n",
        "mapping_age_color ={'Early working Age':'lightcyan',\n",
        "                    'Prime Working Age':'cyan',\n",
        "                    'Mid–Late Working Age':'royalblue',\n",
        "                    'Elderly':'darkblue'}\n",
        "\n",
        "# Prepare and sort data\n",
        "age_counts = (\n",
        "    df_copy[\"AgeGroup\"]\n",
        "    .value_counts()\n",
        "    .rename_axis(\"AgeGroup\")\n",
        "    .reset_index(name=\"Count\")\n",
        "    .assign(SortOrder=lambda d: d[\"AgeGroup\"].map(age_order))\n",
        "    .sort_values(\"SortOrder\")\n",
        "    .drop(columns=\"SortOrder\")\n",
        ")\n",
        "\n",
        "# Plot\n",
        "fig = px.pie(\n",
        "    age_counts,\n",
        "    names=\"AgeGroup\",\n",
        "    values=\"Count\",\n",
        "    color=\"AgeGroup\",\n",
        "    color_discrete_map = mapping_age_color ,\n",
        "    title=\"Age Group Distribution\",\n",
        "    category_orders={\"AgeGroup\": list(age_order.keys())}\n",
        ")\n",
        "# Styled Pie Chart\n",
        "fig.update_traces(hoverinfo='label+percent', textinfo='value', textfont_size=20,\n",
        "                  marker=dict( line=dict(color='#000000', width=2)))\n",
        "\n",
        "fig.update_layout(\n",
        "    width=1000,\n",
        "    height=650\n",
        ")\n",
        "\n",
        "fig.update_traces(textinfo=\"percent+label+value\")\n",
        "fig.show()\n"
      ],
      "metadata": {
        "id": "8_RMvu4S3I6_"
      },
      "execution_count": null,
      "outputs": []
    },
    {
      "cell_type": "code",
      "source": [
        "# Count and Percent\n",
        "age_churn_dist = (\n",
        "    df_copy.groupby([\"AgeGroup\", \"Exited\"])\n",
        "    .size()\n",
        "    .reset_index(name=\"Count\")\n",
        ")\n",
        "\n",
        "# Percent each age group\n",
        "percents = age_churn_dist.groupby(\"AgeGroup\")[\"Count\"].transform(\"sum\")\n",
        "age_churn_dist[\"Percent\"] = round((age_churn_dist[\"Count\"] / percents) * 100, 2)\n",
        "\n",
        "# convert to string to mapping color\n",
        "age_churn_dist[\"Exited\"] = age_churn_dist[\"Exited\"].astype(str)\n",
        "\n",
        "# sort age group\n",
        "age_order = [\"Early working Age\", \"Prime Working Age\", \"Mid–Late Working Age\", \"Elderly\"]\n",
        "color_map = {\"0\": \"deepskyblue\", \"1\": \"red\"}\n",
        "\n",
        "# Bar chart\n",
        "fig = px.bar(\n",
        "    age_churn_dist,\n",
        "    x=\"AgeGroup\",\n",
        "    y=\"Count\",\n",
        "    color=\"Exited\",\n",
        "    barmode=\"group\",\n",
        "    color_discrete_map=color_map,\n",
        "    category_orders={\"AgeGroup\": age_order, \"Exited\": [\"0\", \"1\"]},\n",
        "    custom_data=[\"Percent\"]\n",
        ")\n",
        "\n",
        "fig.update_traces(\n",
        "    texttemplate=\"%{y} (%{customdata[0]}%)\",\n",
        "    textposition=\"outside\"\n",
        ")\n",
        "\n",
        "fig.update_layout(\n",
        "    title=dict(text='Churn Distribute by Age'),\n",
        "    xaxis_title=\"Age Group\",\n",
        "    yaxis_title=\"Number of Customers\",\n",
        "    bargap=0.2\n",
        ")\n",
        "\n",
        "fig.show()"
      ],
      "metadata": {
        "id": "E5AY2sRq-ZSx"
      },
      "execution_count": null,
      "outputs": []
    },
    {
      "cell_type": "markdown",
      "source": [
        "### 5.7.3. One-Tailed Two-Proportion Z-Test"
      ],
      "metadata": {
        "id": "rywt3VA_Be9Q"
      }
    },
    {
      "cell_type": "markdown",
      "source": [
        "| Age Group   | Churned (x) | \tTotal (n) | \tChurn Rate (p) |\n",
        "|--------|---------------|-------------|-----------------|\n",
        "| Early working Age    | 504        | 4.986      | 10.11%         |\n",
        "| Prime Working Age    | 17.852       | 128.372      | 13.91%         |\n",
        "| Mid–Late Working Age | 16.153      | 29.701     | 54.38%         |\n",
        "| Elderly              | 412      | 1971     | 20.9%         |"
      ],
      "metadata": {
        "id": "zomwlRg8T7fW"
      }
    },
    {
      "cell_type": "code",
      "source": [
        "def z_test_age_plot(x1, n1, comparisons, title_prefix=\"Z-Test: Mid–Late Working Age vs\"):\n",
        "    \"\"\"\n",
        "    Plot multiple Z-tests comparing Mid–Late Working Age with other groups.\n",
        "\n",
        "    Parameters:\n",
        "    - x1: Churned of Mid–Late group\n",
        "    - n1: Total of Mid–Late group\n",
        "    - comparisons: list of tuples (label, x2, n2)\n",
        "    \"\"\"\n",
        "    for label, x2, n2 in comparisons:\n",
        "        # Proportions\n",
        "        p1 = x1 / n1\n",
        "        p2 = x2 / n2\n",
        "        p = (x1 + x2) / (n1 + n2)  # pooled\n",
        "\n",
        "        # Z-score and p-value (one-tailed)\n",
        "        z = round((p1 - p2) / np.sqrt(p * (1 - p) * (1/n1 + 1/n2)), 4)\n",
        "        p_value = round(1 - norm.cdf(z), 10)\n",
        "\n",
        "        # Z-distribution\n",
        "        x_vals = np.linspace(-10, 160, 1000)\n",
        "        y_vals = norm.pdf(x_vals)\n",
        "\n",
        "        fig = go.Figure()\n",
        "\n",
        "        # Normal curve\n",
        "        fig.add_trace(go.Scatter(x=x_vals, y=y_vals, mode='lines',\n",
        "                                 name='Standard Normal Distribution', line=dict(color='blue')))\n",
        "\n",
        "        # Rejection region\n",
        "        fig.add_trace(go.Scatter(\n",
        "            x=x_vals,\n",
        "            y=np.where(x_vals >= 1.645, y_vals, None),\n",
        "            fill='tozeroy',\n",
        "            mode='none',\n",
        "            name='Rejection Region (α = 0.05)',\n",
        "            fillcolor='rgba(255,0,0,0.3)'\n",
        "        ))\n",
        "\n",
        "        # Z-score line\n",
        "        fig.add_trace(go.Scatter(\n",
        "            x=[z, z],\n",
        "            y=[0, 0.4],\n",
        "            mode='lines',\n",
        "            line=dict(color='darkred', dash='dash'),\n",
        "            name=f'Z = {z}'\n",
        "        ))\n",
        "\n",
        "        # Annotate p-value\n",
        "        fig.add_annotation(\n",
        "            x=z,\n",
        "            y=0.03,\n",
        "            text=f\"p-value ≈ {p_value}\",\n",
        "            showarrow=True,\n",
        "            arrowhead=1,\n",
        "            ax=-60,\n",
        "            ay=-30,\n",
        "            font=dict(color=\"darkred\")\n",
        "        )\n",
        "\n",
        "        # Layout\n",
        "        fig.update_layout(\n",
        "            title=f\"{title_prefix} {label}\",\n",
        "            xaxis_title=\"Z-score\",\n",
        "            yaxis_title=\"Probability Density\",\n",
        "            xaxis_range=[-10, 160],\n",
        "            showlegend=True,\n",
        "            width=900,\n",
        "            height=500\n",
        "        )\n",
        "\n",
        "        fig.show()"
      ],
      "metadata": {
        "id": "A0ec2avEEE2O"
      },
      "execution_count": null,
      "outputs": []
    },
    {
      "cell_type": "markdown",
      "source": [
        "#### 5.7.3.1. Mid–Late Working Age vs Early working Age; Prime Working Age and Elderly"
      ],
      "metadata": {
        "id": "JtlhFZZkHBax"
      }
    },
    {
      "cell_type": "code",
      "source": [
        "# Mid–Late Working Age\n",
        "x_midlate, n_midlate = 16153, 29701\n",
        "\n",
        "# Age Group\n",
        "comparisons = [\n",
        "    (\"Early working Age\", 504, 4986),\n",
        "    (\"Prime Working Age\", 17852, 128372),\n",
        "    (\"Elderly\", 412, 1971)\n",
        "]\n",
        "\n",
        "# One-Tailed Two-Proportion Z-Test\n",
        "z_test_age_plot(x_midlate, n_midlate, comparisons)"
      ],
      "metadata": {
        "id": "WPgbMdkWXXOr"
      },
      "execution_count": null,
      "outputs": []
    },
    {
      "cell_type": "markdown",
      "source": [
        "### 5.7.4. Conclusion"
      ],
      "metadata": {
        "id": "h4Ghcn2WG3v5"
      }
    },
    {
      "cell_type": "markdown",
      "source": [
        "The Mid–Late Working Age group (45–64 years) shows a significantly higher churn rate compared to all other age groups."
      ],
      "metadata": {
        "id": "1ipdeOr-bm5X"
      }
    },
    {
      "cell_type": "markdown",
      "source": [
        "## **5.8. Number of product**"
      ],
      "metadata": {
        "id": "xosmSEUfcyrM"
      }
    },
    {
      "cell_type": "code",
      "source": [
        "# unique value Number of product\n",
        "df['NumOfProducts'].unique()"
      ],
      "metadata": {
        "id": "lvZWdvYEXhOO"
      },
      "execution_count": null,
      "outputs": []
    },
    {
      "cell_type": "markdown",
      "source": [
        "### 5.8.1. churn by number of product and geography"
      ],
      "metadata": {
        "id": "jOMWYNRHFBui"
      }
    },
    {
      "cell_type": "code",
      "source": [
        "# count customers churn by number of product and geography\n",
        "df_filtered = df[df['Exited'] == 1]\n",
        "new_df = df_filtered.groupby([\"Geography\",\"NumOfProducts\"])[\"Exited\"].count().reset_index()\n",
        "new_df = new_df.pivot(index='Geography', columns='NumOfProducts')['Exited'].fillna(0)\n",
        "\n",
        "# heatmap\n",
        "fig = px.imshow(\n",
        "    new_df,\n",
        "    x=new_df.columns,\n",
        "    y=new_df.index,\n",
        "    color_continuous_scale='YlGnBu',\n",
        "    text_auto=True\n",
        "    )\n",
        "\n",
        "fig.update_layout(\n",
        "    title=\"Number of Churned Customers by Number of Products and Geography\",\n",
        "    xaxis_title=\"Number of Products\",\n",
        "    yaxis_title=\"Geography\",\n",
        "    coloraxis_colorbar=dict(title=\"Number of Churned Customers\"),\n",
        "    xaxis=dict(tickmode=\"array\", tickvals=[1, 2, 3, 4]),\n",
        "    width=1000,\n",
        "    height=650\n",
        ")\n",
        "fig.show()"
      ],
      "metadata": {
        "id": "m66_hXbf-bpN"
      },
      "execution_count": null,
      "outputs": []
    },
    {
      "cell_type": "markdown",
      "source": [
        "### 5.8.2. Conclusion"
      ],
      "metadata": {
        "id": "9kJ8YKAiHViP"
      }
    },
    {
      "cell_type": "markdown",
      "source": [
        "For all three countries (France, Germany, and Spain), the number of churned customers decreases as the number of products increases."
      ],
      "metadata": {
        "id": "QROl49REFfQR"
      }
    },
    {
      "cell_type": "markdown",
      "source": [
        "## **5.9. CreditScore**\n",
        "\n",
        "A credit score is a three-digit number (typically 300–850) that reflects a person’s creditworthiness based on their credit history. It helps lenders assess the risk of lending money. Credit scores are calculated using factors like payment history, debt levels, and credit length, with FICO and VantageScore being the most common models. A good score improves chances for loans, low interest rates, housing, and even jobs.\n",
        "\n",
        "Base on SoFi Learn:\n",
        "\n",
        "•   300-580: Poor\n",
        "\n",
        "•   580-669: Fair\n",
        "\n",
        "•   670-739: Good\n",
        "\n",
        "•   740-799: Very good\n",
        "\n",
        "•   800-850: Exceptional or Excellent\n",
        "\n",
        "\n",
        "**Ref**\n",
        "- FinanceCharts\n",
        "  - Credit Score : https://www.financecharts.com/definitions/credit-score#:~:text=A%20credit%20score%20is%20a%20numerical%20representation%20of,risk%20associated%20with%20lending%20money%20to%20a%20person.\n",
        "\n",
        "- SoFi Learn\n",
        "  - Guide to Credit Score Ranges: https://www.sofi.com/learn/content/credit-score-ranges/#:~:text=%E2%80%A2%20Credit%20scores%20range%20from%20300%20to%20850%2C,late%202024%20is%20717%2C%20which%20is%20considered%20good.?msockid=3f5958d6bdba62b732a54aafbc7a631b"
      ],
      "metadata": {
        "id": "uwuJt8fQGpIm"
      }
    },
    {
      "cell_type": "markdown",
      "source": [
        "### 5.9.1. Mapping credit score group"
      ],
      "metadata": {
        "id": "5bP2kSJkEZfl"
      }
    },
    {
      "cell_type": "code",
      "source": [
        "# unique credit score\n",
        "min_credit_score = df['CreditScore'].min()\n",
        "max_credit_score = df['CreditScore'].max()\n",
        "print(f\"Min Credit Score: {min_credit_score}, Max Credit Score: {max_credit_score}\")\n",
        "print(f\"Total unique credit score: {len(df['CreditScore'].unique())}\")"
      ],
      "metadata": {
        "id": "JvVSQhRQ_4n1"
      },
      "execution_count": null,
      "outputs": []
    },
    {
      "cell_type": "code",
      "source": [
        "def map_credit_score(credit_score):\n",
        "    if 300 <= credit_score <= 579:  # 300-579\n",
        "        return \"poor\"\n",
        "    elif 580 <= credit_score <= 669: # 580-669\n",
        "        return \"fair\"\n",
        "    elif 670 <= credit_score <= 739: # 670-739\n",
        "        return \"good\"\n",
        "    elif 740 <= credit_score <= 799: # 740-799\n",
        "        return \"Very_good\"\n",
        "    elif 800 <= credit_score <= 850: # 800-850\n",
        "        return \"exceptional_or_excellent\""
      ],
      "metadata": {
        "id": "Q-JoOg4PHxp_"
      },
      "execution_count": null,
      "outputs": []
    },
    {
      "cell_type": "code",
      "source": [
        "# map creditscore_group and The test of independence\n",
        "df_copy = df.copy()\n",
        "df_copy[\"creditscore_group\"] = df_copy[\"CreditScore\"].apply(map_credit_score)\n",
        "\n",
        "chi_square_test(df_copy, \"creditscore_group\")"
      ],
      "metadata": {
        "id": "QbQWd4e29p8P"
      },
      "execution_count": null,
      "outputs": []
    },
    {
      "cell_type": "markdown",
      "source": [
        "### 5.9.2. Heatmap customers churn by credit score group and geography"
      ],
      "metadata": {
        "id": "b1uLcT4vEgAn"
      }
    },
    {
      "cell_type": "code",
      "source": [
        "# count customers churn by credit score and geography\n",
        "df_filtered = df_copy[df['Exited'] == 1]\n",
        "new_df = df_filtered.groupby([\"Geography\",\"creditscore_group\"])[\"Exited\"].count().reset_index()\n",
        "new_df = new_df.pivot(index='Geography', columns='creditscore_group')['Exited'].fillna(0)\n",
        "new_df\n",
        "\n",
        "# heatmap\n",
        "# sort columns\n",
        "credit_score_order = [\"poor\", \"fair\", \"good\", \"Very_good\", \"exceptional_or_excellent\"]\n",
        "new_df = new_df[credit_score_order]\n",
        "\n",
        "# Heatmap\n",
        "fig_heat = px.imshow(\n",
        "    new_df,\n",
        "    x=credit_score_order,\n",
        "    y=new_df.index,\n",
        "    color_continuous_scale='YlGnBu',\n",
        "    text_auto=True\n",
        ")\n",
        "\n",
        "fig_heat.update_layout(\n",
        "    title=\"Number of Churned Customers by Credit Score and Geography\",\n",
        "    xaxis_title=\"Credit Score Group\",\n",
        "    yaxis_title=\"Geography\",\n",
        "    coloraxis_colorbar=dict(title=\"Number of Churned Customers\"),\n",
        "    width=1000,\n",
        "    height=650\n",
        ")\n",
        "\n",
        "fig_heat.show()"
      ],
      "metadata": {
        "id": "e82swjQlO9fV"
      },
      "execution_count": null,
      "outputs": []
    },
    {
      "cell_type": "markdown",
      "source": [
        "- All three countries have similar customer attrition rates at the highest Credit Scores (580-669).\n",
        "\n",
        "- The trend of customer attrition decreases as Credit Score increases.\n",
        "\n",
        "-> Scredit score is not affected by Geography"
      ],
      "metadata": {
        "id": "fH-YGt9zXAQg"
      }
    },
    {
      "cell_type": "markdown",
      "source": [
        "### 5.9.3. Total customer by credit score group"
      ],
      "metadata": {
        "id": "ecHZxFwnEtil"
      }
    },
    {
      "cell_type": "code",
      "source": [
        "# Total customer by credit score group\n",
        "credit_score_counts = (\n",
        "    df_copy[\"creditscore_group\"]\n",
        "    .value_counts()\n",
        "    .reset_index(name=\"Count\")\n",
        ")\n",
        "\n",
        "# Sort the DataFrame\n",
        "credit_score_order = [\"poor\", \"fair\", \"good\", \"Very_good\", \"exceptional_or_excellent\"]\n",
        "credit_score_counts['SortOrder'] = credit_score_counts['creditscore_group'].apply(lambda x: credit_score_order.index(x))\n",
        "credit_score_counts = credit_score_counts.sort_values('SortOrder').drop(columns='SortOrder')\n",
        "\n",
        "# Pie chart\n",
        "fig_pie = px.pie(\n",
        "    credit_score_counts,\n",
        "    names=\"creditscore_group\",\n",
        "    values=\"Count\",\n",
        "    title=\"Total Customer Distribution by Credit Score Group\",\n",
        "    category_orders={\"creditscore_group\": credit_score_order}\n",
        ")\n",
        "\n",
        "fig_pie.update_traces(textinfo=\"percent+value\")\n",
        "fig_pie.update_layout(width=1000, height=650)\n",
        "fig_pie.show()"
      ],
      "metadata": {
        "id": "3CrAf60QR6Mb"
      },
      "execution_count": null,
      "outputs": []
    },
    {
      "cell_type": "markdown",
      "source": [
        "### 5.9.4. churn by credit score group"
      ],
      "metadata": {
        "id": "EKHNsbWjE0Yv"
      }
    },
    {
      "cell_type": "code",
      "source": [
        "# count and percent of churn by credit score group\n",
        "credit_churn_dist = (\n",
        "    df_copy.groupby([\"creditscore_group\", \"Exited\"])\n",
        "    .size()\n",
        "    .reset_index(name=\"Count\")\n",
        ")\n",
        "\n",
        "# Percent each age group\n",
        "percents = credit_churn_dist.groupby(\"creditscore_group\")[\"Count\"].transform(\"sum\")\n",
        "credit_churn_dist[\"Percent\"] = round((credit_churn_dist[\"Count\"] / percents) * 100, 2)\n",
        "\n",
        "# convert to string to mapping color\n",
        "credit_churn_dist[\"Exited\"] = credit_churn_dist[\"Exited\"].astype(str)\n",
        "\n",
        "# sort age group\n",
        "credit_score_order = [\"poor\", \"fair\", \"good\", \"Very_good\", \"exceptional_or_excellent\"]\n",
        "color_map = {\"0\": \"deepskyblue\", \"1\": \"red\"}\n",
        "\n",
        "# Bar chart\n",
        "fig = px.bar(\n",
        "    credit_churn_dist,\n",
        "    x=\"creditscore_group\",\n",
        "    y=\"Count\",\n",
        "    color=\"Exited\",\n",
        "    barmode=\"group\",\n",
        "    color_discrete_map=color_map,\n",
        "    category_orders={\"creditscore_group\": credit_score_order, \"Exited\": [\"0\", \"1\"]},\n",
        "    custom_data=[\"Percent\"]\n",
        ")\n",
        "\n",
        "fig.update_traces(\n",
        "    texttemplate=\"%{y} (%{customdata[0]}%)\",\n",
        "    textposition=\"outside\"\n",
        ")\n",
        "\n",
        "fig.update_layout(\n",
        "    title=dict(text='Churn Distribute by Credit Score'),\n",
        "    xaxis_title=\"Credit Score Group\",\n",
        "    yaxis_title=\"Number of Customers\",\n",
        "    bargap=0.2\n",
        ")\n",
        "\n",
        "fig.show()"
      ],
      "metadata": {
        "id": "WlZ75wIrasY_"
      },
      "execution_count": null,
      "outputs": []
    },
    {
      "cell_type": "markdown",
      "source": [
        "### 5.9.5. One-Tailed Two-Proportion Z-Test"
      ],
      "metadata": {
        "id": "b9juQsTeESia"
      }
    },
    {
      "cell_type": "markdown",
      "source": [
        "| Credit Score Group             | Churned (x) | Total (n) | Churn Rate (p) |\n",
        "| ------------------------------ | ----------- | --------- | -------------- |\n",
        "| **poor**                       | 6,553       | 27,860    | 0.2352         |\n",
        "| **fair**                       | 13,581      | 62,023    | 0.2190         |\n",
        "| **good**                       | 9,969       | 52,161    | 0.1911         |\n",
        "| **Very\\_good**                 | 3,467       | 16,357    | 0.2120         |\n",
        "| **exceptional\\_or\\_excellent** | 1,352       | 6,633     | 0.2038         |\n"
      ],
      "metadata": {
        "id": "YCEhKbZTBavd"
      }
    },
    {
      "cell_type": "markdown",
      "source": [
        "#### 5.9.5.1. credit score: poor vs fair; good; very_good and exceptional_or_excellent"
      ],
      "metadata": {
        "id": "eAdWNWEKHjrB"
      }
    },
    {
      "cell_type": "code",
      "source": [
        "# poor credit score\n",
        "x_midlate, n_midlate = 6553, 27860\n",
        "\n",
        "# credit score Group\n",
        "comparisons = [\n",
        "    (\"fair\", 13581, 62023),\n",
        "    (\"good\", 9969, \t62023),\n",
        "    (\"very_good\", 9969, 52161),\n",
        "    (\"exceptional_or_excellent\",1352, 6633)\n",
        "]\n",
        "\n",
        "title = 'credit score: poor vs'\n",
        "\n",
        "# One-Tailed Two-Proportion Z-Test\n",
        "z_test_age_plot(x_midlate, n_midlate, comparisons, title)"
      ],
      "metadata": {
        "id": "TrvtpTjFBLkw"
      },
      "execution_count": null,
      "outputs": []
    },
    {
      "cell_type": "markdown",
      "source": [
        "### 5.9.6. Conclusion"
      ],
      "metadata": {
        "id": "4RKM3zaQHc_9"
      }
    },
    {
      "cell_type": "markdown",
      "source": [
        "Customers in the \"poor\" credit score group are more likely to leave than those in other ."
      ],
      "metadata": {
        "id": "lovfA1l7Dle6"
      }
    },
    {
      "cell_type": "markdown",
      "source": [
        "## **5.10. HasCrCard**"
      ],
      "metadata": {
        "id": "4RZgrbg7Xveu"
      }
    },
    {
      "cell_type": "markdown",
      "source": [
        "### 5.10.1. churn by hascrcard"
      ],
      "metadata": {
        "id": "cChojwhqJRQ7"
      }
    },
    {
      "cell_type": "code",
      "source": [
        "# count and percent of churn by hascrcard\n",
        "hascrcard_churn_dist = (\n",
        "    df_copy.groupby([\"HasCrCard\", \"Exited\"])\n",
        "    .size()\n",
        "    .reset_index(name=\"Count\")\n",
        ")\n",
        "\n",
        "# Percent each group\n",
        "percents = hascrcard_churn_dist.groupby(\"HasCrCard\")[\"Count\"].transform(\"sum\")\n",
        "hascrcard_churn_dist[\"Percent\"] = round((hascrcard_churn_dist[\"Count\"] / percents) * 100, 2)\n",
        "\n",
        "# convert to string for color mapping\n",
        "hascrcard_churn_dist[\"Exited\"] = hascrcard_churn_dist[\"Exited\"].astype(str)\n",
        "hascrcard_churn_dist[\"HasCrCard\"] = hascrcard_churn_dist[\"HasCrCard\"].astype(str)\n",
        "\n",
        "\n",
        "color_map = {\"0\": \"deepskyblue\", \"1\": \"red\"}\n",
        "\n",
        "# Bar chart\n",
        "fig = px.bar(\n",
        "    hascrcard_churn_dist,\n",
        "    x=\"HasCrCard\",\n",
        "    y=\"Count\",\n",
        "    color=\"Exited\",\n",
        "    barmode=\"group\",\n",
        "    color_discrete_map=color_map,\n",
        "    category_orders={\"HasCrCard\": [\"0\", \"1\"], \"Exited\": [\"0\", \"1\"]},\n",
        "    custom_data=[\"Percent\"]\n",
        ")\n",
        "\n",
        "fig.update_traces(\n",
        "    texttemplate=\"%{y} (%{customdata[0]}%)\",\n",
        "    textposition=\"outside\"\n",
        ")\n",
        "\n",
        "fig.update_layout(\n",
        "    title=dict(text='Churn Distribution by Having a Credit Card'),\n",
        "    xaxis_title=\"Has Credit Card (1=Yes, 0=No)\",\n",
        "    yaxis_title=\"Number of Customers\",\n",
        "    bargap=0.2\n",
        ")\n",
        "\n",
        "fig.show()"
      ],
      "metadata": {
        "id": "2tAoIEtCEEaY"
      },
      "execution_count": null,
      "outputs": []
    },
    {
      "cell_type": "markdown",
      "source": [
        "### 5.10.2. One-Tailed Two-Proportion Z-Test\n",
        "\n",
        "- H0: Churn of Non-HasCrCard ≤  Churn of Non-HasCrCard\n",
        "- H1: Churn of Non-HasCrCard >  Churn of Non-HasCrCard\n",
        "\n",
        "| HasCrCard | Churned (Exited=1)  | Total Customers | Churn Rate |\n",
        "| --------- |  ---------------------- | --------------- | ---------- |\n",
        "| 0 (No)    | 9,235           | 40,606          | 22.74%     |\n",
        "| 1 (Yes)   | 25,686        | 124,428         | 20.64%     |\n"
      ],
      "metadata": {
        "id": "Y8sicJPFJ5hC"
      }
    },
    {
      "cell_type": "markdown",
      "source": [
        "#### 5.10.2.1. HasCrCard and HasntCrCard"
      ],
      "metadata": {
        "id": "jZOb4O3oKCKd"
      }
    },
    {
      "cell_type": "code",
      "source": [
        "# HasCrCard\n",
        "x_midlate, n_midlate = 9235, 40606\n",
        "\n",
        "comparisons = [\n",
        "    (\"hasn't credit card\", 25686, 124428),\n",
        "]\n",
        "\n",
        "title = \"credit card: has credit card vs\"\n",
        "\n",
        "# One-Tailed Two-Proportion Z-Test\n",
        "z_test_age_plot(x_midlate, n_midlate, comparisons, title)"
      ],
      "metadata": {
        "id": "kQJL2NaXJmbb"
      },
      "execution_count": null,
      "outputs": []
    },
    {
      "cell_type": "markdown",
      "source": [
        "### 5.10.3. Conclusion\n",
        "- Customers'churn decisions are higher even if they have a credit card."
      ],
      "metadata": {
        "id": "9xIQbPiNLK5r"
      }
    },
    {
      "cell_type": "markdown",
      "source": [
        "## **5.11. IsActiveMember**"
      ],
      "metadata": {
        "id": "zVFuh1aKMyXa"
      }
    },
    {
      "cell_type": "markdown",
      "source": [
        "### 5.11.1. Churn by IsActiveMember"
      ],
      "metadata": {
        "id": "gyfH_wTfNE1j"
      }
    },
    {
      "cell_type": "code",
      "source": [
        "# count and percent of churn by IsActiveMember\n",
        "activemember_churn_dist = (\n",
        "    df_copy.groupby([\"IsActiveMember\", \"Exited\"])\n",
        "    .size()\n",
        "    .reset_index(name=\"Count\")\n",
        ")\n",
        "\n",
        "# Percent each group\n",
        "percents = activemember_churn_dist.groupby(\"IsActiveMember\")[\"Count\"].transform(\"sum\")\n",
        "activemember_churn_dist[\"Percent\"] = round((activemember_churn_dist[\"Count\"] / percents) * 100, 2)\n",
        "\n",
        "# convert to string for color mapping\n",
        "activemember_churn_dist[\"Exited\"] = activemember_churn_dist[\"Exited\"].astype(str)\n",
        "activemember_churn_dist[\"IsActiveMember\"] = activemember_churn_dist[\"IsActiveMember\"].astype(str)\n",
        "\n",
        "\n",
        "color_map = {\"0\": \"deepskyblue\", \"1\": \"red\"}\n",
        "\n",
        "# Bar chart\n",
        "fig = px.bar(\n",
        "    activemember_churn_dist,\n",
        "    x=\"IsActiveMember\",\n",
        "    y=\"Count\",\n",
        "    color=\"Exited\",\n",
        "    barmode=\"group\",\n",
        "    color_discrete_map=color_map,\n",
        "    category_orders={\"IsActiveMember\": [\"0\", \"1\"], \"Exited\": [\"0\", \"1\"]},\n",
        "    custom_data=[\"Percent\"]\n",
        ")\n",
        "\n",
        "fig.update_traces(\n",
        "    texttemplate=\"%{y} (%{customdata[0]}%)\",\n",
        "    textposition=\"outside\"\n",
        ")\n",
        "\n",
        "fig.update_layout(\n",
        "    title=dict(text='Churn Distribution by Active Member'),\n",
        "    xaxis_title=\"IsActiveMember (1=Yes, 0=No)\",\n",
        "    yaxis_title=\"Number of Customers\",\n",
        "    bargap=0.2\n",
        ")\n",
        "\n",
        "fig.show()"
      ],
      "metadata": {
        "id": "gMF1krSaMvUD"
      },
      "execution_count": null,
      "outputs": []
    },
    {
      "cell_type": "markdown",
      "source": [
        "- This makes sense as more active customers use than churn."
      ],
      "metadata": {
        "id": "objZ2XOZNj7b"
      }
    },
    {
      "cell_type": "markdown",
      "source": [
        "## **5.12. Churn by   HasCreditCard, IsActiveMember credit score,NumOfProduct,**"
      ],
      "metadata": {
        "id": "_lglbVgvR7c1"
      }
    },
    {
      "cell_type": "code",
      "source": [
        "def churn_CreditCard_ActiveMember(FilterCD = 0, FilterAM = 0):\n",
        "  # Filter HasCreditCard and IsActiveMember\n",
        "  filtered_df = df[(df[\"HasCrCard\"] == FilterCD) & (df[\"IsActiveMember\"] == FilterAM)].copy()\n",
        "\n",
        "  # Calculate churn percentage for the title\n",
        "  total_customers = filtered_df.shape[0]\n",
        "  churned_customers = filtered_df[filtered_df[\"Exited\"] == 1].shape[0]\n",
        "  churn_percent = (churned_customers / total_customers) * 100 if total_customers > 0 else 0\n",
        "\n",
        "  # Split Violin Plot\n",
        "  fig = go.Figure()\n",
        "\n",
        "  for exited_value, side, name, color in zip([0, 1], ['negative', 'positive'], ['Not Churned', 'Churned'], ['blue', 'red']):\n",
        "      # Filter by Exited value within the filtered_df\n",
        "      exited_df = filtered_df[filtered_df[\"Exited\"] == exited_value]\n",
        "\n",
        "      # Calculate counts and percentages for each NumOfProducts bin\n",
        "      counts_by_product = exited_df['NumOfProducts'].value_counts().sort_index()\n",
        "      total_in_group = counts_by_product.sum()\n",
        "      percentages_by_product = (counts_by_product / total_in_group * 100).round(2)\n",
        "\n",
        "      fig.add_trace(go.Violin(\n",
        "          x=exited_df[\"NumOfProducts\"],\n",
        "          y=exited_df[\"Age\"],\n",
        "          legendgroup=name,\n",
        "          scalegroup=name,\n",
        "          name=name,\n",
        "          side=side,\n",
        "          line_color=color,\n",
        "          spanmode='hard',\n",
        "          meanline_visible=True\n",
        "      ))\n",
        "\n",
        "      # Add annotations for counts and percentages\n",
        "      for product, count in counts_by_product.items():\n",
        "          percent = percentages_by_product[product]\n",
        "          annotation_text = f\"Count: {count}<br>Percent: {percent}%\"\n",
        "          fig.add_annotation(\n",
        "              x=product + (0.2 if side == 'positive' else -0.2),\n",
        "              y=exited_df[exited_df['NumOfProducts'] == product]['Age'].mean(),\n",
        "              text=annotation_text,\n",
        "              showarrow=False,\n",
        "              font=dict(\n",
        "                  size=10,\n",
        "                  color=\"black\"\n",
        "              )\n",
        "          )\n",
        "\n",
        "\n",
        "  fig.update_layout(\n",
        "      title=f\"Churn by Age vs NumOfProducts [ Customers: HasCrCard = {FilterCD} & IsActiveMember = {FilterAM}] <br>Churn Rate of Filter: {churn_percent:.2f}%\",\n",
        "      xaxis_title=\"Number of Products\",\n",
        "      yaxis_title=\"Age\",\n",
        "      violingap=0,\n",
        "      violinmode='overlay',\n",
        "      width=1500,\n",
        "      height=650\n",
        "\n",
        "  )\n",
        "\n",
        "  fig.show()"
      ],
      "metadata": {
        "id": "KHogyVDHu9iX"
      },
      "execution_count": null,
      "outputs": []
    },
    {
      "cell_type": "markdown",
      "source": [
        "### 5.12.1. HasCreditCard = 0 and IsActiveMember = 0"
      ],
      "metadata": {
        "id": "JS5l9ydfhL-q"
      }
    },
    {
      "cell_type": "code",
      "source": [
        "# Filter HasCreditCard = 0 and IsActiveMember = 0\n",
        "churn_CreditCard_ActiveMember(0, 0)"
      ],
      "metadata": {
        "id": "qjIRoVQymPoz"
      },
      "execution_count": null,
      "outputs": []
    },
    {
      "cell_type": "markdown",
      "source": [
        "### 5.12.2.  HasCreditCard = 0 and IsActiveMember = 1"
      ],
      "metadata": {
        "id": "3ht79u88v8XO"
      }
    },
    {
      "cell_type": "code",
      "source": [
        "# Filter HasCreditCard = 0 and IsActiveMember = 1\n",
        "churn_CreditCard_ActiveMember(0, 1)"
      ],
      "metadata": {
        "id": "IHnM-h-rmqZu"
      },
      "execution_count": null,
      "outputs": []
    },
    {
      "cell_type": "markdown",
      "source": [
        "### 5.12.3.  HasCreditCard =  and IsActiveMember = 1"
      ],
      "metadata": {
        "id": "gccjx--CwGT-"
      }
    },
    {
      "cell_type": "code",
      "source": [
        "# Filter HasCreditCard = 1 and IsActiveMember = 1\n",
        "churn_CreditCard_ActiveMember(1, 1)"
      ],
      "metadata": {
        "id": "IXeuxbOHwKha"
      },
      "execution_count": null,
      "outputs": []
    },
    {
      "cell_type": "markdown",
      "source": [
        "### 5.12.3.  HasCreditCard =  and IsActiveMember = 0"
      ],
      "metadata": {
        "id": "a5WXnXhywM5r"
      }
    },
    {
      "cell_type": "code",
      "source": [
        "# Filter HasCreditCard = 1 and IsActiveMember = 0\n",
        "churn_CreditCard_ActiveMember(1, 0)"
      ],
      "metadata": {
        "id": "nzkwbAHjwRe1"
      },
      "execution_count": null,
      "outputs": []
    },
    {
      "cell_type": "markdown",
      "source": [
        "### 5.12.4. Conclusion\n",
        "\n",
        "\n",
        "\n",
        "| HasCrCard | IsActiveMember | Churn Rate (%) | Churn Count | Not Churn Count | Total Customers |\n",
        "| --------- | -------------- | -------------- | ----------- | --------------- | --------------- |\n",
        "| 0         | 0              | 30.94%         | 6,079       | 13,567          | 19,646          |\n",
        "| 0         | 1              | 15.06%         | 3,178       | 17,804          | 20,982          |\n",
        "| 1         | 1              | 11.67%         | 7,141       | 54,048          | 61,189          |\n",
        "| 1         | 0              | 29.33%         | 18,545      | 44,694          | 63,239          |\n",
        "\n"
      ],
      "metadata": {
        "id": "OGtWeAVpw5W_"
      }
    },
    {
      "cell_type": "markdown",
      "source": [
        "## **Final Conclusion**\n",
        "\n",
        "Customer Churn Decisions Made Easiest:\n",
        "\n",
        "1. Gender: Female\n",
        "2. Geography: Germany\n",
        "3. Age: 45 - 64\n",
        "4. Number of product: 1\n",
        "5. Credit Score: 300-579\n",
        "6. Has Credit Card: No\n",
        "7. Is Active Member: 0\n"
      ],
      "metadata": {
        "id": "jR0IlJM63y5h"
      }
    }
  ]
}
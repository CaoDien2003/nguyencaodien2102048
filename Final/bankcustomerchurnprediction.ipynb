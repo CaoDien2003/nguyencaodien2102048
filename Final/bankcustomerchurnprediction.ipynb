{
  "cells": [
    {
      "cell_type": "markdown",
      "metadata": {
        "id": "StOLSj59FaI2"
      },
      "source": [
        "# **Bank Customer Churn Prediction**"
      ]
    },
    {
      "cell_type": "markdown",
      "metadata": {
        "id": "VhpAZUh4JGXe"
      },
      "source": [
        "# **1. Introduction**"
      ]
    },
    {
      "cell_type": "markdown",
      "metadata": {
        "id": "jQbcqHsqGQcz"
      },
      "source": [
        "## **About dataset:**\n",
        "The bank customer churn dataset is a commonly used dataset for predicting customer churn in the banking industry. It contains information on bank customers who either left the bank or continue to be a customer.\n",
        "\n",
        "dataset: [Binary Classification with a Bank Churn Dataset | Kaggle](https://www.kaggle.com/competitions/playground-series-s4e1/data)"
      ]
    },
    {
      "cell_type": "markdown",
      "metadata": {
        "id": "RBJ1RjDRGS3s"
      },
      "source": [
        "## **Columns Description:**\n",
        "Customer ID: A unique identifier for each customer\n",
        "\n",
        "- Surname: The customer's surname or last name\n",
        "\n",
        "- Geography: The country where the customer resides (France, Spain or Germany)\n",
        "\n",
        "- Credit Score: A numerical value representing the customer's credit score\n",
        "\n",
        "- Gender: The customer's gender (Male or Female)\n",
        "\n",
        "- Age: The customer's age.\n",
        "\n",
        "- Tenure: The number of years the customer has been with the bank\n",
        "\n",
        "- Balance: The customer's account balance\n",
        "\n",
        "- NumOfProducts: The number of bank products the customer uses (e.g., savings account, credit card)\n",
        "\n",
        "- HasCrCard: Whether the customer has a credit card (1 = yes, 0 = no)\n",
        "\n",
        "- IsActiveMember: Whether the customer is an active member (1 = yes, 0 = no)\n",
        "\n",
        "- EstimatedSalary: The estimated salary of the customer\n",
        "\n",
        "- Exited: Whether the customer has churned (1 = yes, 0 = no)"
      ]
    },
    {
      "cell_type": "markdown",
      "metadata": {
        "id": "7xOlO9GCIfEI"
      },
      "source": [
        "# **2. Import Libary**"
      ]
    },
    {
      "cell_type": "code",
      "execution_count": null,
      "metadata": {
        "id": "Fr398QGaCb76"
      },
      "outputs": [],
      "source": [
        "from google.colab import drive\n",
        "drive.mount('/content/drive')"
      ]
    },
    {
      "cell_type": "code",
      "execution_count": null,
      "metadata": {
        "id": "9jAvK4d6Cd1b"
      },
      "outputs": [],
      "source": [
        "import pandas as pd\n",
        "import plotly.express as px\n",
        "import numpy as np\n",
        "import plotly.graph_objects as go\n",
        "from scipy.stats import norm\n",
        "import seaborn as sns\n",
        "import matplotlib.pyplot as plt"
      ]
    },
    {
      "cell_type": "markdown",
      "metadata": {
        "id": "mhKUbI5MKQTv"
      },
      "source": [
        "# **3. Import Dataset**"
      ]
    },
    {
      "cell_type": "code",
      "execution_count": null,
      "metadata": {
        "id": "iJ9HrumSE-hq"
      },
      "outputs": [],
      "source": [
        "# load dataset\n",
        "path=\"/content/drive/MyDrive/Projects/data visua/dataset/bankchurn.csv\"\n",
        "df = pd.read_csv(path)\n",
        "df.head(5)"
      ]
    },
    {
      "cell_type": "code",
      "execution_count": null,
      "metadata": {
        "id": "Z4sRo6ojFL_W"
      },
      "outputs": [],
      "source": [
        "df.shape"
      ]
    },
    {
      "cell_type": "markdown",
      "metadata": {
        "id": "1891OH3XKgpU"
      },
      "source": [
        "# **4. Quick Remove Null and Duplicate Value**"
      ]
    },
    {
      "cell_type": "code",
      "execution_count": null,
      "metadata": {
        "id": "UJbL138tFUNt"
      },
      "outputs": [],
      "source": [
        "# Remove null values\n",
        "print(f'Num of Null Values: {df.isnull().sum()}')\n",
        "df.dropna(inplace=True)\n",
        "\n",
        "# Remove duplicate values\n",
        "print(f\"Number of Duplicate values: {df.duplicated().sum()}\")\n",
        "df.drop_duplicates(inplace=True)\n",
        "\n",
        "df.reset_index(drop=True, inplace=True)"
      ]
    },
    {
      "cell_type": "markdown",
      "metadata": {
        "id": "uyLHB1p7Kuo9"
      },
      "source": [
        "# **5. Exploratory Data Analysis (EDA)**"
      ]
    },
    {
      "cell_type": "markdown",
      "metadata": {
        "id": "34X3IPdRMUxC"
      },
      "source": [
        "## 5.1. Remove Surname"
      ]
    },
    {
      "cell_type": "code",
      "execution_count": null,
      "metadata": {
        "id": "ZxreH0xFNotH"
      },
      "outputs": [],
      "source": [
        "# Count unique Surname\n",
        "unique_sur = df[\"Surname\"].nunique()\n",
        "print(f\"Total Number of Surname: {df.shape[0]} \")\n",
        "print(f\"Number of unique Surname: {unique_sur}\")"
      ]
    },
    {
      "cell_type": "code",
      "execution_count": null,
      "metadata": {
        "id": "GpthZINARhzH"
      },
      "outputs": [],
      "source": [
        "# count each value of Surname\n",
        "count_values = df[\"Surname\"].value_counts()\n",
        "count_values"
      ]
    },
    {
      "cell_type": "code",
      "execution_count": null,
      "metadata": {
        "id": "iKSxzoFLVgrS"
      },
      "outputs": [],
      "source": []
    },
    {
      "cell_type": "code",
      "execution_count": null,
      "metadata": {
        "id": "egpzvwt0SZkd"
      },
      "outputs": [],
      "source": [
        "# min max average num of surname\n",
        "min_value = count_values.min()\n",
        "max_value = count_values.max()\n",
        "avge = count_values.mean()\n",
        "print(f\"Maximum: {max_value}\")\n",
        "print(f\"Minimum: {min_value}\")\n",
        "print(f\"Average: {avge}\")"
      ]
    },
    {
      "cell_type": "code",
      "execution_count": null,
      "metadata": {
        "id": "5_Aq0pfzTF95"
      },
      "outputs": [],
      "source": [
        "# Word cloud\n",
        "from wordcloud import WordCloud\n",
        "\n",
        "# Concatenate all surnames into a single string\n",
        "surnames_text = ' '.join(df['Surname'])\n",
        "\n",
        "# Generate the word cloud\n",
        "wordcloud = WordCloud(width = 800, height = 800,\n",
        "                background_color ='white',\n",
        "                stopwords = None,\n",
        "                min_font_size = 10).generate(surnames_text)\n",
        "\n",
        "# Plot the word cloud\n",
        "plt.figure(figsize = (8, 8), facecolor = None)\n",
        "plt.imshow(wordcloud)\n",
        "plt.axis(\"off\")\n",
        "plt.tight_layout(pad = 0)\n",
        "\n",
        "plt.show()"
      ]
    },
    {
      "cell_type": "markdown",
      "metadata": {
        "id": "W4HGu8I3TWnK"
      },
      "source": [
        "## 5.2. Customer Churn Distribution"
      ]
    },
    {
      "cell_type": "code",
      "execution_count": null,
      "metadata": {
        "id": "NbDeRZGDU08E"
      },
      "outputs": [],
      "source": [
        "# map color\n",
        "map_color_exited={\n",
        "        0: \"deepskyblue\",   # Exited = 0\n",
        "        1: \"red\"            # Exited = 1\n",
        "        }"
      ]
    },
    {
      "cell_type": "code",
      "execution_count": null,
      "metadata": {
        "id": "gWqeQw-WFZjY"
      },
      "outputs": [],
      "source": [
        "# 5.1. Customer Churn Distribution\n",
        "\n",
        "#  Exited\n",
        "churn_counts = df[\"Exited\"].value_counts().reset_index()\n",
        "churn_counts.columns = [\"Exited\", \"Count\"]\n",
        "\n",
        "# mapping color\n",
        "map_color_exited = {\"0\": \"deepskyblue\", \"1\": \"red\"}\n",
        "\n",
        "# convert Exited to string to mapping color\n",
        "churn_counts[\"Exited\"] = churn_counts[\"Exited\"].astype(str)\n",
        "\n",
        "# Pie Charts\n",
        "fig = px.pie(\n",
        "    churn_counts,\n",
        "    names=\"Exited\",\n",
        "    values=\"Count\",\n",
        "    color=\"Exited\",\n",
        "    color_discrete_map=map_color_exited,\n",
        "    title=\"Customer Churn Distribution\"\n",
        ")\n",
        "\n",
        "fig.update_traces(textinfo='percent+label+value')\n",
        "fig.show()"
      ]
    },
    {
      "cell_type": "markdown",
      "metadata": {
        "id": "Rlw69ZJtTl-i"
      },
      "source": [
        "- 130,113 customers (78.8%) stayed with the bank.\n",
        "- 34,921 customers (21.2%) churned (left the bank).\n",
        "\n",
        "The churn rate is moderately low (~21%), which means the bank is doing reasonably well in customer retention.\n",
        "\n",
        "However, nearly 1 in 5 customers leaving still poses a risk, especially considering that acquiring new customers is usually more expensive than retaining current ones."
      ]
    },
    {
      "cell_type": "markdown",
      "metadata": {
        "id": "tTearoc7Yk4s"
      },
      "source": [
        "## 5.3. Churn Distribution by Gender"
      ]
    },
    {
      "cell_type": "code",
      "execution_count": null,
      "metadata": {
        "id": "6xZP6RCLOSeU"
      },
      "outputs": [],
      "source": [
        "## 5.2. Churn Distribution by Gender\n",
        "\n",
        "def plot_churn_by_gender(df, mapcolor):\n",
        "    # Total and churn\n",
        "    n_female = df[df[\"Gender\"] == \"Female\"].shape[0]\n",
        "    n_male = df[df[\"Gender\"] == \"Male\"].shape[0]\n",
        "    total = n_female + n_male\n",
        "\n",
        "    female_churn = df[(df[\"Gender\"] == \"Female\") & (df[\"Exited\"] == 1)].shape[0]\n",
        "    male_churn = df[(df[\"Gender\"] == \"Male\") & (df[\"Exited\"] == 1)].shape[0]\n",
        "\n",
        "    # get percent\n",
        "    pct_female_total = round((n_female / total) * 100, 2)\n",
        "    pct_male_total = round((n_male / total) * 100, 2)\n",
        "\n",
        "    pct_female_churn = round((female_churn / n_female) * 100, 2)\n",
        "    pct_male_churn = round((male_churn / n_male) * 100, 2)\n",
        "\n",
        "\n",
        "    map_color = mapcolor\n",
        "\n",
        "    # plot\n",
        "    fig = px.histogram(\n",
        "        df,\n",
        "        x=\"Gender\",\n",
        "        color=\"Exited\",\n",
        "        barmode=\"group\",\n",
        "        title=f\"Churn by Gender | Female: {pct_female_total}% of total, Churn of female: {pct_female_churn}% | Male: {pct_male_total}% of total, Churn of male: {pct_male_churn}%\",\n",
        "        color_discrete_map=map_color,\n",
        "        category_orders={\"Gender\": [\"Female\", \"Male\"]},\n",
        "        text_auto=True\n",
        "    )\n",
        "\n",
        "    fig.update_layout(\n",
        "        xaxis_title=\"Gender\",\n",
        "        yaxis_title=\"Number of Customers\",\n",
        "        bargap=0.2\n",
        "    )\n",
        "\n",
        "    fig.update_traces(textfont_size=14, textposition='outside')\n",
        "    fig.show()"
      ]
    },
    {
      "cell_type": "code",
      "execution_count": null,
      "metadata": {
        "id": "H9cMVcXUOWPc"
      },
      "outputs": [],
      "source": [
        "plot_churn_by_gender(df, map_color_exited)"
      ]
    },
    {
      "cell_type": "markdown",
      "metadata": {
        "id": "_oaLLoTAZf9I"
      },
      "source": [
        "There are more male customers than female in the dataset:\n",
        "\n",
        "- Male: ~93,150 (78,334 stayed, 14,816 churned)\n",
        "\n",
        "- Female: ~71,884 (51,779 stayed, 20,105 churned)\n",
        "\n",
        "Churn Rate by Gender:\n",
        "\n",
        "- Female: ~28%\n",
        "\n",
        "- Male: ~15.9%\n",
        "\n",
        "Female customers churn significantly more than male customers.\n",
        "This may suggest a gap in service satisfaction or product relevance for female users, which the bank should investigate further."
      ]
    },
    {
      "cell_type": "markdown",
      "metadata": {
        "id": "qX1JmVkbJ2hp"
      },
      "source": [
        "### Female vs Male"
      ]
    },
    {
      "cell_type": "markdown",
      "metadata": {
        "id": "hsQgrlECPvvR"
      },
      "source": [
        "[One-Tailed Two-Proportion Z-Test ](https://www.statology.org/two-proportion-z-test/)\n",
        "\n",
        "- z = (p1-p2) / √p(1-p)(1/n1+1/n2)\n",
        "\n",
        " - p1, p2:  sample proportions of churn for female and male groups\n",
        " - n1, n2:  total number of customers in each group\n",
        " - p: pooled proportion\n",
        "\n",
        "- p = (p1n1 + p2n2)/(n1+n2)\n",
        "\n",
        "The hypothesis:\n",
        "\n",
        "- Null Hypothesis (H0): p₁ ≤ p₂\n",
        "( Female churn rate ≤ Male churn rate)\n",
        "\n",
        "- Alternative Hypothesis (H1):  p₁ > p₂\n",
        "( Female churn rate > Male churn rate)\n",
        "\n",
        "| gender   | Churned (x) | \tTotal (n) | \tChurn Rate (p) |\n",
        "|--------|---------------|-------------|-----------------|\n",
        "| Female     | 20.105        | 71.884      | 27,97%          |\n",
        "| Male    | 14.816        | 93.150      | 15,91%          |"
      ]
    },
    {
      "cell_type": "code",
      "execution_count": null,
      "metadata": {
        "id": "VAvqIJnSUi0C"
      },
      "outputs": [],
      "source": [
        "# Churned (x),\tTotal (n) , Churn Rate (p)\n",
        "x1, n1 = 20105, 71884\n",
        "x2, n2 = 14816, 93150\n",
        "\n",
        "p1 = x1 / n1\n",
        "p2 = x2 / n2\n",
        "p = (x1 + x2) / (n1 + n2)\n",
        "\n",
        "z = round((p1 - p2) / np.sqrt(p * (1 - p) * (1/n1 + 1/n2)), 4)\n",
        "p_value = round(1 - norm.cdf(z), 10)\n",
        "\n",
        "# Distribution\n",
        "x_vals = np.linspace(-10, 60, 1000)\n",
        "y_vals = norm.pdf(x_vals)\n",
        "\n",
        "fig = go.Figure()\n",
        "\n",
        "# Normal curve\n",
        "fig.add_trace(go.Scatter(x=x_vals, y=y_vals, mode='lines', name='Standard Normal Distribution', line=dict(color='blue')))\n",
        "\n",
        "# Rejection region\n",
        "fig.add_trace(go.Scatter(\n",
        "    x=x_vals,\n",
        "    y=np.where(x_vals >= 1.645, y_vals, None),\n",
        "    fill='tozeroy',\n",
        "    mode='none',\n",
        "    name='Rejection Region (α = 0.05)',\n",
        "    fillcolor='rgba(255,0,0,0.3)'\n",
        "))\n",
        "\n",
        "# Z-score line\n",
        "fig.add_trace(go.Scatter(\n",
        "    x=[z, z],\n",
        "    y=[0, 0.4],  # constant height (just for visualization)\n",
        "    mode='lines',\n",
        "    line=dict(color='darkred', dash='dash'),\n",
        "    name=f'Z = {z}'\n",
        "))\n",
        "\n",
        "# Annotation for p-value\n",
        "fig.add_annotation(\n",
        "    x=z,\n",
        "    y=0.03,\n",
        "    text=f\"p-value ≈ {p_value}\",\n",
        "    showarrow=True,\n",
        "    arrowhead=1,\n",
        "    ax=-60,\n",
        "    ay=-30,\n",
        "    font=dict(color=\"darkred\")\n",
        ")\n",
        "\n",
        "# Layout\n",
        "fig.update_layout(\n",
        "    title=\"Interactive One-Tailed Z-Test: Female Churn Rate > Male Churn Rate\",\n",
        "    xaxis_title=\"Z-score\",\n",
        "    yaxis_title=\"Probability Density\",\n",
        "    xaxis_range=[ -10, 60],\n",
        "    showlegend=True,\n",
        "    width=900,\n",
        "    height=500\n",
        ")\n",
        "\n",
        "fig.show()"
      ]
    },
    {
      "cell_type": "markdown",
      "metadata": {
        "id": "vmeanzMbWfw1"
      },
      "source": [
        "- The blue curve represents the standard normal distribution (Z-distribution) with mean = 0 and standard deviation = 1.\n",
        "\n",
        "- The red shaded area starting from Z = 1.645 is the rejection region for a one-tailed test at significance level α = 0.05.\n",
        "\n",
        "- The dashed red vertical line at Z = 59.491 indicates the actual result of your Z-Test.\n",
        "\n",
        "- The annotation \"p-value ≈ 0.0\" highlights that the probability of getting such a high Z-score under the null hypothesis is virtually 0."
      ]
    },
    {
      "cell_type": "markdown",
      "metadata": {
        "id": "R2o_LJpTcEfO"
      },
      "source": [
        "## 5.4. Churn Distribution by Geography"
      ]
    },
    {
      "cell_type": "code",
      "execution_count": null,
      "metadata": {
        "id": "ldsViVMbaatV"
      },
      "outputs": [],
      "source": [
        "def plot_churn_by_geography(df, mapcolor):\n",
        "    # all unique regions\n",
        "    regions = df[\"Geography\"].unique()\n",
        "    total = df.shape[0]\n",
        "\n",
        "    # summary for each region\n",
        "    summaries = []\n",
        "    for region in regions:\n",
        "        n_region = df[df[\"Geography\"] == region].shape[0]\n",
        "        churn_region = df[(df[\"Geography\"] == region) & (df[\"Exited\"] == 1)].shape[0]\n",
        "        pct_region_total = round((n_region / total) * 100, 2)\n",
        "        pct_region_churn = round((churn_region / n_region) * 100, 2)\n",
        "        summaries.append(f\"{region}: {pct_region_total}% of total, Churn of {region}: {pct_region_churn}%\")\n",
        "\n",
        "    # title\n",
        "    title_text = \"Churn by Geography | \" + \" | \".join(summaries)\n",
        "\n",
        "    # Plot\n",
        "    fig = px.histogram(\n",
        "        df,\n",
        "        x=\"Geography\",\n",
        "        color=\"Exited\",\n",
        "        barmode=\"group\",\n",
        "        title=title_text,\n",
        "        color_discrete_map=mapcolor,\n",
        "        category_orders={\"Geography\": sorted(regions)},\n",
        "        text_auto=True\n",
        "    )\n",
        "\n",
        "    fig.update_layout(\n",
        "        xaxis_title=\"Geography\",\n",
        "        yaxis_title=\"Number of Customers\",\n",
        "        bargap=0.2\n",
        "    )\n",
        "\n",
        "    fig.update_traces(textfont_size=14, textposition='outside')\n",
        "    fig.show()"
      ]
    },
    {
      "cell_type": "code",
      "execution_count": null,
      "metadata": {
        "id": "Q9SzxhJUdXnR"
      },
      "outputs": [],
      "source": [
        "plot_churn_by_geography(df, map_color_exited)"
      ]
    },
    {
      "cell_type": "markdown",
      "metadata": {
        "id": "vWuDe8AeeYU4"
      },
      "source": [
        "| Geography   | Churned (x) | \tTotal (n) | \tChurn Rate (p) |\n",
        "|--------|---------------|-------------|-----------------|\n",
        "| France     | 15,572        | 94,215      | 16.53%         |\n",
        "| Germany    | 13,114        | 34,606      | 37.90%         |\n",
        "| Spain    | 6,235       | 36,213     | 17.22%         |"
      ]
    },
    {
      "cell_type": "markdown",
      "metadata": {
        "id": "mAuvkgeAm2Yh"
      },
      "source": [
        "### Germany vs France\n",
        "- H0: p_GER ≤ p_FR\n",
        "- H1: p_GER > p_FR"
      ]
    },
    {
      "cell_type": "code",
      "execution_count": null,
      "metadata": {
        "id": "Hmjojs85nXIP"
      },
      "outputs": [],
      "source": [
        "# Germany vs France\n",
        "# churned (X), Total (n)\n",
        "x1, n1 = 13114, 34606  # Germany\n",
        "x2, n2 = 15572, 94215  # France\n",
        "\n",
        "# Proportions\n",
        "p1 = x1 / n1  # Germany churn rate\n",
        "p2 = x2 / n2  # France churn rate\n",
        "\n",
        "# Pooled proportion\n",
        "p = (x1 + x2) / (n1 + n2)\n",
        "\n",
        "# Z-score and p-value\n",
        "z = round((p1 - p2) / np.sqrt(p * (1 - p) * (1/n1 + 1/n2)), 4)\n",
        "p_value = round(1 - norm.cdf(z), 10)\n",
        "\n",
        "# Z-distribution plot\n",
        "x_vals = np.linspace(-10, 90, 1000)\n",
        "y_vals = norm.pdf(x_vals)\n",
        "\n",
        "fig = go.Figure()\n",
        "\n",
        "# Standard normal curve\n",
        "fig.add_trace(go.Scatter(x=x_vals, y=y_vals, mode='lines',\n",
        "                         name='Standard Normal Distribution', line=dict(color='blue')))\n",
        "\n",
        "# Rejection region (α = 0.05, Z = 1.645)\n",
        "fig.add_trace(go.Scatter(\n",
        "    x=x_vals,\n",
        "    y=np.where(x_vals >= 1.645, y_vals, None),\n",
        "    fill='tozeroy',\n",
        "    mode='none',\n",
        "    name='Rejection Region (α = 0.05)',\n",
        "    fillcolor='rgba(255,0,0,0.3)'\n",
        "))\n",
        "\n",
        "# Z-score line\n",
        "fig.add_trace(go.Scatter(\n",
        "    x=[z, z],\n",
        "    y=[0, 0.4],\n",
        "    mode='lines',\n",
        "    line=dict(color='darkred', dash='dash'),\n",
        "    name=f'Z = {z}'\n",
        "))\n",
        "\n",
        "# Annotate p-value\n",
        "fig.add_annotation(\n",
        "    x=z,\n",
        "    y=0.03,\n",
        "    text=f\"p-value ≈ {p_value}\",\n",
        "    showarrow=True,\n",
        "    arrowhead=1,\n",
        "    ax=-60,\n",
        "    ay=-30,\n",
        "    font=dict(color=\"darkred\")\n",
        ")\n",
        "\n",
        "# Layout\n",
        "fig.update_layout(\n",
        "    title=\"Z-Test: Germany Churn Rate > France Churn Rate\",\n",
        "    xaxis_title=\"Z-score\",\n",
        "    yaxis_title=\"Probability Density\",\n",
        "    xaxis_range=[-10, 90],\n",
        "    showlegend=True,\n",
        "    width=900,\n",
        "    height=500\n",
        ")\n",
        "\n",
        "fig.show()"
      ]
    },
    {
      "cell_type": "markdown",
      "metadata": {
        "id": "n5BQMeoXoLuC"
      },
      "source": [
        "- The Z-score between Germany and France is Z = 81.7043\n",
        "\n",
        "- The red region is the rejection zone for significance level α = 0.05, starting at Z = 1.645\n",
        "\n",
        "- Because Z ≫ 1.645 and p-value ≈ 0.0, we reject the null hypothesis H₀\n",
        "\n",
        "-> Germany has the highest churn rate"
      ]
    },
    {
      "cell_type": "markdown",
      "metadata": {
        "id": "CjPe50Fqm7PW"
      },
      "source": [
        "### Germany vs Spain\n",
        "- H0: p_GER ≤ p_SP\n",
        "\n",
        "- H1: p_GER > p_SP"
      ]
    },
    {
      "cell_type": "code",
      "execution_count": null,
      "metadata": {
        "id": "MiBJUhGYmYv4"
      },
      "outputs": [],
      "source": [
        "# Germany vs Spain\n",
        "# churned (X), Total (n)\n",
        "x1, n1 = 13114, 34606   # Germany\n",
        "x2, n2 = 6235, 36213    # Spain\n",
        "\n",
        "# Proportions\n",
        "p1 = x1 / n1  # Germany churn rate\n",
        "p2 = x2 / n2  # Spain churn rate\n",
        "\n",
        "# Pooled proportion\n",
        "p = (x1 + x2) / (n1 + n2)\n",
        "\n",
        "# Z-score and p-value\n",
        "z = round((p1 - p2) / np.sqrt(p * (1 - p) * (1/n1 + 1/n2)), 4)\n",
        "p_value = round(1 - norm.cdf(z), 10)\n",
        "\n",
        "# Z-distribution for plot\n",
        "x_vals = np.linspace(-10, 90, 1000)\n",
        "y_vals = norm.pdf(x_vals)\n",
        "\n",
        "# Create figure\n",
        "fig = go.Figure()\n",
        "\n",
        "# Normal curve\n",
        "fig.add_trace(go.Scatter(x=x_vals, y=y_vals, mode='lines', name='Standard Normal Distribution', line=dict(color='blue')))\n",
        "\n",
        "# Rejection region (α = 0.05 → Z = 1.645)\n",
        "fig.add_trace(go.Scatter(\n",
        "    x=x_vals,\n",
        "    y=np.where(x_vals >= 1.645, y_vals, None),\n",
        "    fill='tozeroy',\n",
        "    mode='none',\n",
        "    name='Rejection Region (α = 0.05)',\n",
        "    fillcolor='rgba(255,0,0,0.3)'\n",
        "))\n",
        "\n",
        "# Z-score line\n",
        "fig.add_trace(go.Scatter(\n",
        "    x=[z, z],\n",
        "    y=[0, 0.4],\n",
        "    mode='lines',\n",
        "    line=dict(color='darkred', dash='dash'),\n",
        "    name=f'Z = {z}'\n",
        "))\n",
        "\n",
        "# Annotate p-value\n",
        "fig.add_annotation(\n",
        "    x=z,\n",
        "    y=0.03,\n",
        "    text=f\"p-value ≈ {p_value}\",\n",
        "    showarrow=True,\n",
        "    arrowhead=1,\n",
        "    ax=-60,\n",
        "    ay=-30,\n",
        "    font=dict(color=\"darkred\")\n",
        ")\n",
        "\n",
        "# Layout\n",
        "fig.update_layout(\n",
        "    title=\"Z-Test: Germany Churn Rate > Spain Churn Rate\",\n",
        "    xaxis_title=\"Z-score\",\n",
        "    yaxis_title=\"Probability Density\",\n",
        "    xaxis_range=[-10, 90],\n",
        "    showlegend=True,\n",
        "    width=900,\n",
        "    height=500\n",
        ")\n",
        "\n",
        "fig.show()"
      ]
    },
    {
      "cell_type": "markdown",
      "metadata": {
        "id": "vFtiarsfo0uj"
      },
      "source": [
        "- The chart shows the standard normal distribution (blue), with the rejection region shaded in red starting at Z = 1.645\n",
        "\n",
        "- The dashed red line at Z = 61.2722 represents the observed Z-score for Germany vs Spain\n",
        "\n",
        "- The p-value ≈ 0.0 indicates that such an extreme Z-score is virtually impossible under the null hypothesis\n",
        "\n",
        "- Since Z > 1.645 and p ≈ 0, we reject the null hypothesis\n",
        "\n",
        "-> Germany has the highest churn rate"
      ]
    },
    {
      "cell_type": "markdown",
      "metadata": {
        "id": "0A4VDxynpH0T"
      },
      "source": [
        "### Conclusion\n",
        "\n",
        "Germany has a higher churn rate than both France and Spain, with very high statistical significance (Z > 60, p ≈ 0 in both pairs of tests)."
      ]
    },
    {
      "cell_type": "markdown",
      "metadata": {
        "id": "tihX17WipYMS"
      },
      "source": [
        "## 5.5. Geography and Gender  "
      ]
    },
    {
      "cell_type": "code",
      "execution_count": null,
      "metadata": {
        "id": "W25kYDQ0pXf5"
      },
      "outputs": [],
      "source": [
        "# # Group by Geography and Gender\n",
        "gender_geo_counts = df.groupby([\"Geography\", \"Gender\"]).size().reset_index(name=\"Count\")\n",
        "\n",
        "# # Calculate total and percent ( ALL Dataset)\n",
        "# total = gender_geo_counts[\"Count\"].sum()\n",
        "# gender_geo_counts[\"Percent\"] = round((gender_geo_counts[\"Count\"] / total) * 100, 2)\n",
        "\n",
        "# Calculate total per country and percent\n",
        "total_per_country = gender_geo_counts.groupby(\"Geography\")[\"Count\"].transform(\"sum\")\n",
        "gender_geo_counts[\"Percent\"] = round((gender_geo_counts[\"Count\"] / total_per_country) * 100, 2)\n",
        "\n",
        "# # Create label: \"Count (Percent%)\"\n",
        "gender_geo_counts[\"Label\"] = gender_geo_counts[\"Count\"].astype(str) + \" (\" + gender_geo_counts[\"Percent\"].astype(str) + \"%)\""
      ]
    },
    {
      "cell_type": "code",
      "execution_count": null,
      "metadata": {
        "id": "C3ldqPansDvw"
      },
      "outputs": [],
      "source": [
        "# Bar Chart\n",
        "fig = px.bar(\n",
        "    gender_geo_counts,\n",
        "    x=\"Geography\",\n",
        "    y=\"Count\",\n",
        "    color=\"Gender\",\n",
        "    barmode=\"group\",\n",
        "    text=gender_geo_counts[\"Label\"],\n",
        "    title=\"Number and Percentage of Male and Female Customers per Country\"\n",
        ")\n",
        "\n",
        "# Update layout\n",
        "fig.update_layout(\n",
        "    yaxis_title=\"Number of Customers\",\n",
        "    xaxis_title=\"Country\",\n",
        "    bargap=0.2\n",
        ")\n",
        "\n",
        "# Show text above bars\n",
        "fig.update_traces(textposition=\"outside\", textfont_size=13)\n",
        "\n",
        "# Display chart\n",
        "fig.show()"
      ]
    },
    {
      "cell_type": "code",
      "execution_count": null,
      "metadata": {
        "id": "B4y2AD8tx4EN"
      },
      "outputs": [],
      "source": [
        "# Group: country, Gender and Churn\n",
        "grouped_churn = df.groupby([\"Geography\", \"Gender\", \"Exited\"]).size().reset_index(name=\"Count\")\n",
        "\n",
        "# Bar Chart\n",
        "fig = px.bar(\n",
        "    grouped_churn,\n",
        "    x=\"Geography\",\n",
        "    y=\"Count\",\n",
        "    color=\"Exited\",\n",
        "    barmode=\"group\",\n",
        "    facet_col=\"Gender\",\n",
        "    category_orders={\"Exited\": [0, 1]},\n",
        "    labels={\"Exited\": \"Churned (1 = Yes, 0 = No)\"},\n",
        "    title=\"Churn vs Stay by Gender and Country\"\n",
        ")\n",
        "\n",
        "fig.update_layout(\n",
        "    yaxis_title=\"Number of Customers\",\n",
        "    xaxis_title=\"Country\",\n",
        "    bargap=0.2\n",
        ")\n",
        "\n",
        "fig.show()"
      ]
    },
    {
      "cell_type": "code",
      "execution_count": null,
      "metadata": {
        "id": "LyvlUTdgx5G_"
      },
      "outputs": [],
      "source": []
    }
  ],
  "metadata": {
    "colab": {
      "private_outputs": true,
      "provenance": [],
      "toc_visible": true
    },
    "kernelspec": {
      "display_name": "Python 3",
      "name": "python3"
    },
    "language_info": {
      "name": "python"
    }
  },
  "nbformat": 4,
  "nbformat_minor": 0
}
